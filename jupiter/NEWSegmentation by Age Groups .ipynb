{
 "cells": [
  {
   "cell_type": "code",
   "execution_count": 1,
   "id": "initial_id",
   "metadata": {
    "ExecuteTime": {
     "end_time": "2025-06-03T15:27:01.753641Z",
     "start_time": "2025-06-03T15:27:01.748417Z"
    }
   },
   "outputs": [],
   "source": [
    "#Imports\n",
    "import pandas as pd\n",
    "import matplotlib.pyplot as plt\n",
    "\n",
    "# Display plots inline\n",
    "%matplotlib inline"
   ]
  },
  {
   "cell_type": "code",
   "execution_count": 2,
   "id": "3313ac77ce88e736",
   "metadata": {
    "ExecuteTime": {
     "end_time": "2025-06-04T12:16:16.699863Z",
     "start_time": "2025-06-04T12:16:16.640948Z"
    }
   },
   "outputs": [
    {
     "data": {
      "text/html": [
       "<div>\n",
       "<style scoped>\n",
       "    .dataframe tbody tr th:only-of-type {\n",
       "        vertical-align: middle;\n",
       "    }\n",
       "\n",
       "    .dataframe tbody tr th {\n",
       "        vertical-align: top;\n",
       "    }\n",
       "\n",
       "    .dataframe thead th {\n",
       "        text-align: right;\n",
       "    }\n",
       "</style>\n",
       "<table border=\"1\" class=\"dataframe\">\n",
       "  <thead>\n",
       "    <tr style=\"text-align: right;\">\n",
       "      <th></th>\n",
       "      <th>Unnamed: 0</th>\n",
       "      <th>Transaction_ID</th>\n",
       "      <th>Date</th>\n",
       "      <th>Customer ID</th>\n",
       "      <th>Gender</th>\n",
       "      <th>Age</th>\n",
       "      <th>Product Category</th>\n",
       "      <th>Quantity</th>\n",
       "      <th>Price per Unit</th>\n",
       "      <th>Total Amount</th>\n",
       "    </tr>\n",
       "  </thead>\n",
       "  <tbody>\n",
       "    <tr>\n",
       "      <th>0</th>\n",
       "      <td>0</td>\n",
       "      <td>1</td>\n",
       "      <td>24/11/23</td>\n",
       "      <td>CUST001</td>\n",
       "      <td>Male</td>\n",
       "      <td>34.0</td>\n",
       "      <td>Beauty</td>\n",
       "      <td>3.0</td>\n",
       "      <td>50.0</td>\n",
       "      <td>150.0</td>\n",
       "    </tr>\n",
       "    <tr>\n",
       "      <th>1</th>\n",
       "      <td>1</td>\n",
       "      <td>2</td>\n",
       "      <td>27/2/23</td>\n",
       "      <td>CUST002</td>\n",
       "      <td>Female</td>\n",
       "      <td>26.0</td>\n",
       "      <td>Clothing</td>\n",
       "      <td>2.0</td>\n",
       "      <td>500.0</td>\n",
       "      <td>1000.0</td>\n",
       "    </tr>\n",
       "    <tr>\n",
       "      <th>2</th>\n",
       "      <td>2</td>\n",
       "      <td>3</td>\n",
       "      <td>13/1/23</td>\n",
       "      <td>CUST003</td>\n",
       "      <td>Male</td>\n",
       "      <td>50.0</td>\n",
       "      <td>Electronics</td>\n",
       "      <td>1.0</td>\n",
       "      <td>30.0</td>\n",
       "      <td>30.0</td>\n",
       "    </tr>\n",
       "    <tr>\n",
       "      <th>3</th>\n",
       "      <td>4</td>\n",
       "      <td>5</td>\n",
       "      <td>21/5/23</td>\n",
       "      <td>CUST005</td>\n",
       "      <td>Male</td>\n",
       "      <td>37.0</td>\n",
       "      <td>Clothing</td>\n",
       "      <td>1.0</td>\n",
       "      <td>500.0</td>\n",
       "      <td>500.0</td>\n",
       "    </tr>\n",
       "    <tr>\n",
       "      <th>4</th>\n",
       "      <td>5</td>\n",
       "      <td>6</td>\n",
       "      <td>6/5/23</td>\n",
       "      <td>CUST006</td>\n",
       "      <td>Male</td>\n",
       "      <td>30.0</td>\n",
       "      <td>Beauty</td>\n",
       "      <td>2.0</td>\n",
       "      <td>50.0</td>\n",
       "      <td>100.0</td>\n",
       "    </tr>\n",
       "  </tbody>\n",
       "</table>\n",
       "</div>"
      ],
      "text/plain": [
       "   Unnamed: 0  Transaction_ID      Date Customer ID  Gender   Age  \\\n",
       "0           0               1  24/11/23     CUST001    Male  34.0   \n",
       "1           1               2   27/2/23     CUST002  Female  26.0   \n",
       "2           2               3   13/1/23     CUST003    Male  50.0   \n",
       "3           4               5   21/5/23     CUST005    Male  37.0   \n",
       "4           5               6    6/5/23     CUST006    Male  30.0   \n",
       "\n",
       "  Product Category  Quantity  Price per Unit  Total Amount  \n",
       "0           Beauty       3.0            50.0         150.0  \n",
       "1         Clothing       2.0           500.0        1000.0  \n",
       "2      Electronics       1.0            30.0          30.0  \n",
       "3         Clothing       1.0           500.0         500.0  \n",
       "4           Beauty       2.0            50.0         100.0  "
      ]
     },
     "metadata": {},
     "output_type": "display_data"
    },
    {
     "name": "stdout",
     "output_type": "stream",
     "text": [
      "Dataset has 1000 rows and 10 columns.\n"
     ]
    }
   ],
   "source": [
    "###Load the Cleaned Data\n",
    "# 1) Point to our cleaned CSV\n",
    "file_path = '../data/cleaned_data.csv'\n",
    "\n",
    "# 2) Read into DataFrame\n",
    "df = pd.read_csv(file_path)\n",
    "\n",
    "# 3) Quick check\n",
    "display(df.head())\n",
    "print(f\"Dataset has {len(df)} rows and {len(df.columns)} columns.\")"
   ]
  },
  {
   "cell_type": "code",
   "execution_count": 3,
   "id": "dc28ab4b782888da",
   "metadata": {
    "ExecuteTime": {
     "end_time": "2025-06-04T12:16:38.345685Z",
     "start_time": "2025-06-04T12:16:38.316941Z"
    }
   },
   "outputs": [
    {
     "data": {
      "text/html": [
       "<div>\n",
       "<style scoped>\n",
       "    .dataframe tbody tr th:only-of-type {\n",
       "        vertical-align: middle;\n",
       "    }\n",
       "\n",
       "    .dataframe tbody tr th {\n",
       "        vertical-align: top;\n",
       "    }\n",
       "\n",
       "    .dataframe thead th {\n",
       "        text-align: right;\n",
       "    }\n",
       "</style>\n",
       "<table border=\"1\" class=\"dataframe\">\n",
       "  <thead>\n",
       "    <tr style=\"text-align: right;\">\n",
       "      <th></th>\n",
       "      <th>Age</th>\n",
       "      <th>AgeGroup</th>\n",
       "    </tr>\n",
       "  </thead>\n",
       "  <tbody>\n",
       "    <tr>\n",
       "      <th>0</th>\n",
       "      <td>34.0</td>\n",
       "      <td>28-39</td>\n",
       "    </tr>\n",
       "    <tr>\n",
       "      <th>1</th>\n",
       "      <td>26.0</td>\n",
       "      <td>18-27</td>\n",
       "    </tr>\n",
       "    <tr>\n",
       "      <th>2</th>\n",
       "      <td>50.0</td>\n",
       "      <td>40-51</td>\n",
       "    </tr>\n",
       "    <tr>\n",
       "      <th>3</th>\n",
       "      <td>37.0</td>\n",
       "      <td>28-39</td>\n",
       "    </tr>\n",
       "    <tr>\n",
       "      <th>4</th>\n",
       "      <td>30.0</td>\n",
       "      <td>28-39</td>\n",
       "    </tr>\n",
       "  </tbody>\n",
       "</table>\n",
       "</div>"
      ],
      "text/plain": [
       "    Age AgeGroup\n",
       "0  34.0    28-39\n",
       "1  26.0    18-27\n",
       "2  50.0    40-51\n",
       "3  37.0    28-39\n",
       "4  30.0    28-39"
      ]
     },
     "metadata": {},
     "output_type": "display_data"
    },
    {
     "name": "stdout",
     "output_type": "stream",
     "text": [
      "AgeGroup\n",
      "18-27    191\n",
      "28-39    233\n",
      "40-51    263\n",
      "52-64    282\n",
      "Name: count, dtype: int64\n"
     ]
    }
   ],
   "source": [
    "# Define custom age groups manually and preview\n",
    "\n",
    "import pandas as pd\n",
    "\n",
    "# 1) Load your cleaned data\n",
    "df = pd.read_csv('../data/cleaned_data.csv')\n",
    "\n",
    "# 2) Define the new bins and labels\n",
    "bins   = [0, 27, 39, 51, 64]                # edges for our age brackets based on the clustering\n",
    "labels = ['18-27', '28-39', '40-51', '52-64']  # labels\n",
    "\n",
    "# 3) Create the AgeGroup column\n",
    "df['AgeGroup'] = pd.cut(\n",
    "    df['Age'],\n",
    "    bins=bins,\n",
    "    labels=labels,\n",
    "    right=False     # include left edge, exclude right\n",
    ")\n",
    "\n",
    "# 4) Preview the first few assignments\n",
    "display(df[['Age', 'AgeGroup']].head())\n",
    "\n",
    "# 5) (Optional) Show how many fall into each bracket\n",
    "print(df['AgeGroup'].value_counts().sort_index())\n"
   ]
  },
  {
   "cell_type": "code",
   "execution_count": 4,
   "id": "f34c5a1e84d5866b",
   "metadata": {
    "ExecuteTime": {
     "end_time": "2025-06-04T12:16:41.115989Z",
     "start_time": "2025-06-04T12:16:41.096780Z"
    }
   },
   "outputs": [
    {
     "name": "stderr",
     "output_type": "stream",
     "text": [
      "C:\\Users\\spide\\AppData\\Local\\Temp\\ipykernel_31448\\4106319921.py:4: FutureWarning: The default of observed=False is deprecated and will be changed to True in a future version of pandas. Pass observed=False to retain current behavior or observed=True to adopt the future default and silence this warning.\n",
      "  df.groupby('AgeGroup').agg(\n"
     ]
    },
    {
     "data": {
      "text/html": [
       "<div>\n",
       "<style scoped>\n",
       "    .dataframe tbody tr th:only-of-type {\n",
       "        vertical-align: middle;\n",
       "    }\n",
       "\n",
       "    .dataframe tbody tr th {\n",
       "        vertical-align: top;\n",
       "    }\n",
       "\n",
       "    .dataframe thead th {\n",
       "        text-align: right;\n",
       "    }\n",
       "</style>\n",
       "<table border=\"1\" class=\"dataframe\">\n",
       "  <thead>\n",
       "    <tr style=\"text-align: right;\">\n",
       "      <th></th>\n",
       "      <th>AgeGroup</th>\n",
       "      <th>CustomerCount</th>\n",
       "      <th>TotalSales</th>\n",
       "      <th>AvgQuantity</th>\n",
       "    </tr>\n",
       "  </thead>\n",
       "  <tbody>\n",
       "    <tr>\n",
       "      <th>0</th>\n",
       "      <td>18-27</td>\n",
       "      <td>191</td>\n",
       "      <td>98530.0</td>\n",
       "      <td>2.434555</td>\n",
       "    </tr>\n",
       "    <tr>\n",
       "      <th>1</th>\n",
       "      <td>28-39</td>\n",
       "      <td>233</td>\n",
       "      <td>116355.0</td>\n",
       "      <td>2.678112</td>\n",
       "    </tr>\n",
       "    <tr>\n",
       "      <th>2</th>\n",
       "      <td>40-51</td>\n",
       "      <td>263</td>\n",
       "      <td>107805.0</td>\n",
       "      <td>2.463878</td>\n",
       "    </tr>\n",
       "    <tr>\n",
       "      <th>3</th>\n",
       "      <td>52-64</td>\n",
       "      <td>282</td>\n",
       "      <td>124185.0</td>\n",
       "      <td>2.507092</td>\n",
       "    </tr>\n",
       "  </tbody>\n",
       "</table>\n",
       "</div>"
      ],
      "text/plain": [
       "  AgeGroup  CustomerCount  TotalSales  AvgQuantity\n",
       "0    18-27            191     98530.0     2.434555\n",
       "1    28-39            233    116355.0     2.678112\n",
       "2    40-51            263    107805.0     2.463878\n",
       "3    52-64            282    124185.0     2.507092"
      ]
     },
     "metadata": {},
     "output_type": "display_data"
    }
   ],
   "source": [
    "###Metrics by Age Group\n",
    "# Group by AgeGroup and calculate key metrics\n",
    "segmentation = (\n",
    "    df.groupby('AgeGroup').agg(\n",
    "        CustomerCount = ('Customer ID', 'nunique'),\n",
    "        TotalSales    = ('Total Amount', 'sum'),\n",
    "        AvgQuantity   = ('Quantity', 'mean')\n",
    "    )\n",
    "    .reset_index()\n",
    ")\n",
    "\n",
    "display(segmentation)"
   ]
  },
  {
   "cell_type": "code",
   "execution_count": 5,
   "id": "c2af9e2ec03ab262",
   "metadata": {
    "ExecuteTime": {
     "end_time": "2025-06-04T12:20:48.080568Z",
     "start_time": "2025-06-04T12:20:47.830419Z"
    }
   },
   "outputs": [
    {
     "data": {
      "image/png": "[encoded data removed]",
      "text/plain": [
       "<Figure size 2400x500 with 4 Axes>"
      ]
     },
     "metadata": {},
     "output_type": "display_data"
    }
   ],
   "source": [
    "### Segmentation Results\n",
    "\n",
    "# 1) Compute a new column “AvgSales” = TotalSales / CustomerCount\n",
    "segmentation['AvgSales'] = segmentation['TotalSales'] / segmentation['CustomerCount']\n",
    "\n",
    "# 2) Create a 1×4 grid of bar charts\n",
    "fig, axes = plt.subplots(1, 4, figsize=(24, 5))\n",
    "\n",
    "# 1) Unique customers by age group\n",
    "segmentation.plot.bar(\n",
    "    x='AgeGroup', y='CustomerCount', ax=axes[0], legend=False\n",
    ")\n",
    "axes[0].set_title('Unique Customers by Age')\n",
    "axes[0].set_xlabel('Age Group')\n",
    "axes[0].set_ylabel('Number of Customers')\n",
    "\n",
    "# 2) Total sales by age group\n",
    "segmentation.plot.bar(\n",
    "    x='AgeGroup', y='TotalSales', ax=axes[1], legend=False\n",
    ")\n",
    "axes[1].set_title('Total Sales by Age')\n",
    "axes[1].set_xlabel('Age Group')\n",
    "axes[1].set_ylabel('Sales (€)')\n",
    "\n",
    "# 3) Average quantity per order\n",
    "segmentation.plot.bar(\n",
    "    x='AgeGroup', y='AvgQuantity', ax=axes[2], legend=False\n",
    ")\n",
    "axes[2].set_title('Avg. Quantity per Order')\n",
    "axes[2].set_xlabel('Age Group')\n",
    "axes[2].set_ylabel('Quantity')\n",
    "\n",
    "# 4) Average sales per age group\n",
    "segmentation.plot.bar(\n",
    "    x='AgeGroup', y='AvgSales', ax=axes[3], legend=False\n",
    ")\n",
    "axes[3].set_title('Avg. Sales per Customer')\n",
    "axes[3].set_xlabel('Age Group')\n",
    "axes[3].set_ylabel('Avg. Sales (€)')\n",
    "\n",
    "plt.tight_layout()\n",
    "plt.show()\n"
   ]
  },
  {
   "cell_type": "code",
   "execution_count": 6,
   "id": "cb72dd9f8acaa6e8",
   "metadata": {
    "ExecuteTime": {
     "end_time": "2025-06-04T12:23:18.056789Z",
     "start_time": "2025-06-04T12:23:17.958668Z"
    }
   },
   "outputs": [
    {
     "data": {
      "text/plain": [
       "<Figure size 800x500 with 0 Axes>"
      ]
     },
     "metadata": {},
     "output_type": "display_data"
    },
    {
     "data": {
      "image/png": "[encoded data removed]",
      "text/plain": [
       "<Figure size 640x480 with 1 Axes>"
      ]
     },
     "metadata": {},
     "output_type": "display_data"
    }
   ],
   "source": [
    "# Box plot to show distribution and outliers of Total Amount per age bracket\n",
    "plt.figure(figsize=(8, 5))\n",
    "df.boxplot(column='Total Amount', by='AgeGroup')\n",
    "plt.title('Distribution of Total Sales by Age Group')\n",
    "plt.suptitle('')  # remove automatic suptitle\n",
    "plt.xlabel('Age Group')\n",
    "plt.ylabel('Total Amount')\n",
    "plt.tight_layout()\n",
    "plt.show()"
   ]
  },
  {
   "cell_type": "code",
   "execution_count": 7,
   "id": "8194d18e00532bbc",
   "metadata": {
    "ExecuteTime": {
     "end_time": "2025-06-04T12:23:21.280388Z",
     "start_time": "2025-06-04T12:23:21.258618Z"
    }
   },
   "outputs": [
    {
     "name": "stderr",
     "output_type": "stream",
     "text": [
      "C:\\Users\\spide\\AppData\\Local\\Temp\\ipykernel_31448\\3216346664.py:5: FutureWarning: The default of observed=False is deprecated and will be changed to True in a future version of pandas. Pass observed=False to retain current behavior or observed=True to adopt the future default and silence this warning.\n",
      "  df.groupby(['AgeGroup', 'Product Category'])\n"
     ]
    },
    {
     "data": {
      "text/html": [
       "<div>\n",
       "<style scoped>\n",
       "    .dataframe tbody tr th:only-of-type {\n",
       "        vertical-align: middle;\n",
       "    }\n",
       "\n",
       "    .dataframe tbody tr th {\n",
       "        vertical-align: top;\n",
       "    }\n",
       "\n",
       "    .dataframe thead th {\n",
       "        text-align: right;\n",
       "    }\n",
       "</style>\n",
       "<table border=\"1\" class=\"dataframe\">\n",
       "  <thead>\n",
       "    <tr style=\"text-align: right;\">\n",
       "      <th></th>\n",
       "      <th>AgeGroup</th>\n",
       "      <th>Product Category</th>\n",
       "      <th>CustomerCount</th>\n",
       "      <th>TotalSales</th>\n",
       "      <th>AvgQuantity</th>\n",
       "    </tr>\n",
       "  </thead>\n",
       "  <tbody>\n",
       "    <tr>\n",
       "      <th>0</th>\n",
       "      <td>18-27</td>\n",
       "      <td>Beauty</td>\n",
       "      <td>64</td>\n",
       "      <td>32995.0</td>\n",
       "      <td>2.500000</td>\n",
       "    </tr>\n",
       "    <tr>\n",
       "      <th>1</th>\n",
       "      <td>18-27</td>\n",
       "      <td>Clothing</td>\n",
       "      <td>62</td>\n",
       "      <td>35245.0</td>\n",
       "      <td>2.548387</td>\n",
       "    </tr>\n",
       "    <tr>\n",
       "      <th>2</th>\n",
       "      <td>18-27</td>\n",
       "      <td>Electronics</td>\n",
       "      <td>65</td>\n",
       "      <td>30290.0</td>\n",
       "      <td>2.261538</td>\n",
       "    </tr>\n",
       "    <tr>\n",
       "      <th>3</th>\n",
       "      <td>28-39</td>\n",
       "      <td>Beauty</td>\n",
       "      <td>75</td>\n",
       "      <td>37770.0</td>\n",
       "      <td>2.666667</td>\n",
       "    </tr>\n",
       "    <tr>\n",
       "      <th>4</th>\n",
       "      <td>28-39</td>\n",
       "      <td>Clothing</td>\n",
       "      <td>81</td>\n",
       "      <td>41010.0</td>\n",
       "      <td>2.592593</td>\n",
       "    </tr>\n",
       "    <tr>\n",
       "      <th>5</th>\n",
       "      <td>28-39</td>\n",
       "      <td>Electronics</td>\n",
       "      <td>77</td>\n",
       "      <td>37575.0</td>\n",
       "      <td>2.779221</td>\n",
       "    </tr>\n",
       "    <tr>\n",
       "      <th>6</th>\n",
       "      <td>40-51</td>\n",
       "      <td>Beauty</td>\n",
       "      <td>80</td>\n",
       "      <td>40865.0</td>\n",
       "      <td>2.525000</td>\n",
       "    </tr>\n",
       "    <tr>\n",
       "      <th>7</th>\n",
       "      <td>40-51</td>\n",
       "      <td>Clothing</td>\n",
       "      <td>95</td>\n",
       "      <td>33205.0</td>\n",
       "      <td>2.547368</td>\n",
       "    </tr>\n",
       "    <tr>\n",
       "      <th>8</th>\n",
       "      <td>40-51</td>\n",
       "      <td>Electronics</td>\n",
       "      <td>88</td>\n",
       "      <td>33735.0</td>\n",
       "      <td>2.318182</td>\n",
       "    </tr>\n",
       "    <tr>\n",
       "      <th>9</th>\n",
       "      <td>52-64</td>\n",
       "      <td>Beauty</td>\n",
       "      <td>78</td>\n",
       "      <td>29555.0</td>\n",
       "      <td>2.500000</td>\n",
       "    </tr>\n",
       "    <tr>\n",
       "      <th>10</th>\n",
       "      <td>52-64</td>\n",
       "      <td>Clothing</td>\n",
       "      <td>100</td>\n",
       "      <td>40565.0</td>\n",
       "      <td>2.480000</td>\n",
       "    </tr>\n",
       "    <tr>\n",
       "      <th>11</th>\n",
       "      <td>52-64</td>\n",
       "      <td>Electronics</td>\n",
       "      <td>104</td>\n",
       "      <td>54065.0</td>\n",
       "      <td>2.538462</td>\n",
       "    </tr>\n",
       "  </tbody>\n",
       "</table>\n",
       "</div>"
      ],
      "text/plain": [
       "   AgeGroup Product Category  CustomerCount  TotalSales  AvgQuantity\n",
       "0     18-27           Beauty             64     32995.0     2.500000\n",
       "1     18-27         Clothing             62     35245.0     2.548387\n",
       "2     18-27      Electronics             65     30290.0     2.261538\n",
       "3     28-39           Beauty             75     37770.0     2.666667\n",
       "4     28-39         Clothing             81     41010.0     2.592593\n",
       "5     28-39      Electronics             77     37575.0     2.779221\n",
       "6     40-51           Beauty             80     40865.0     2.525000\n",
       "7     40-51         Clothing             95     33205.0     2.547368\n",
       "8     40-51      Electronics             88     33735.0     2.318182\n",
       "9     52-64           Beauty             78     29555.0     2.500000\n",
       "10    52-64         Clothing            100     40565.0     2.480000\n",
       "11    52-64      Electronics            104     54065.0     2.538462"
      ]
     },
     "metadata": {},
     "output_type": "display_data"
    }
   ],
   "source": [
    "###Adding Product Category\n",
    "\n",
    "# 1) Group by both AgeGroup and Product Category\n",
    "refined = (\n",
    "    df.groupby(['AgeGroup', 'Product Category'])\n",
    "    .agg(\n",
    "        CustomerCount = ('Customer ID', 'nunique'),\n",
    "        TotalSales    = ('Total Amount', 'sum'),\n",
    "        AvgQuantity   = ('Quantity', 'mean')\n",
    "    )\n",
    "    .reset_index()\n",
    ")\n",
    "display(refined)"
   ]
  },
  {
   "cell_type": "code",
   "execution_count": 8,
   "id": "21777eaea2ae22d3",
   "metadata": {
    "ExecuteTime": {
     "end_time": "2025-06-04T12:23:24.804542Z",
     "start_time": "2025-06-04T12:23:24.716129Z"
    }
   },
   "outputs": [
    {
     "data": {
      "image/png": "[encoded data removed]",
      "text/plain": [
       "<Figure size 1000x600 with 1 Axes>"
      ]
     },
     "metadata": {},
     "output_type": "display_data"
    }
   ],
   "source": [
    "###Total sales by Product category and Age group\n",
    "\n",
    "# 2) Visualize with a pivot table bar chart\n",
    "pivot_sales = refined.pivot(index='Product Category', columns='AgeGroup', values='TotalSales')\n",
    "\n",
    "pivot_sales.plot(\n",
    "    kind='bar',\n",
    "    figsize=(10, 6)\n",
    ")\n",
    "plt.title('Total Sales by Product Category and Age Group')\n",
    "plt.xlabel('Product Category')\n",
    "plt.ylabel('Sales (€)')\n",
    "plt.legend(title='Age Group')\n",
    "plt.tight_layout()\n",
    "plt.show()"
   ]
  },
  {
   "cell_type": "code",
   "execution_count": 9,
   "id": "d08a04e508747ec5",
   "metadata": {
    "ExecuteTime": {
     "end_time": "2025-06-03T15:28:22.932366Z",
     "start_time": "2025-06-03T15:28:22.923958Z"
    }
   },
   "outputs": [
    {
     "name": "stdout",
     "output_type": "stream",
     "text": [
      "Saved refined segmentation to segmentation_by_age_and_category.csv\n"
     ]
    }
   ],
   "source": [
    "# Save the refined segmentation to CSV\n",
    "refined.to_csv('../data/segmentation_by_age_and_category.csv', index=False)\n",
    "print('Saved refined segmentation to segmentation_by_age_and_category.csv')"
   ]
  },
  {
   "cell_type": "markdown",
   "id": "67997d6199d8f15",
   "metadata": {},
   "source": [
    "boxplot productxsalesxage group"
   ]
  }
 ],
 "metadata": {
  "kernelspec": {
   "display_name": "venv",
   "language": "python",
   "name": "python3"
  },
  "language_info": {
   "codemirror_mode": {
    "name": "ipython",
    "version": 3
   },
   "file_extension": ".py",
   "mimetype": "text/x-python",
   "name": "python",
   "nbconvert_exporter": "python",
   "pygments_lexer": "ipython3",
   "version": "3.13.0"
  }
 },
 "nbformat": 4,
 "nbformat_minor": 5
}
