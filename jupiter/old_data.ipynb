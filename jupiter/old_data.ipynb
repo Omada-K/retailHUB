{
 "cells": [
  {
   "metadata": {},
   "cell_type": "markdown",
   "source": "Importing Libs",
   "id": "70299e4c85920294"
  },
  {
   "cell_type": "code",
   "id": "initial_id",
   "metadata": {
    "collapsed": true,
    "ExecuteTime": {
     "end_time": "2025-05-22T17:15:54.420713Z",
     "start_time": "2025-05-22T17:15:54.415552Z"
    }
   },
   "source": [
    "import pandas as pd\n",
    "import matplotlib.pyplot as plt"
   ],
   "outputs": [],
   "execution_count": 4
  },
  {
   "metadata": {},
   "cell_type": "markdown",
   "source": "Read CSV",
   "id": "e8bee0c5702163bc"
  },
  {
   "metadata": {
    "ExecuteTime": {
     "end_time": "2025-05-22T17:18:25.481762Z",
     "start_time": "2025-05-22T17:18:25.465333Z"
    }
   },
   "cell_type": "code",
   "source": "data = pd.read_csv(\"../data/raw_data_salesforce.csv\")",
   "id": "304e0aa22c63800",
   "outputs": [],
   "execution_count": 8
  },
  {
   "metadata": {},
   "cell_type": "markdown",
   "source": "Data Head",
   "id": "4fe0e96757a10074"
  },
  {
   "metadata": {
    "ExecuteTime": {
     "end_time": "2025-05-22T17:19:00.697125Z",
     "start_time": "2025-05-22T17:19:00.663937Z"
    }
   },
   "cell_type": "code",
   "source": "data.head(6)",
   "id": "c9d5b6216290cb40",
   "outputs": [
    {
     "data": {
      "text/plain": [
       "   Unnamed: 0  Transaction_ID      Date Customer ID  Gender   Age  \\\n",
       "0           0               1  24/11/23     CUST001    Male  34.0   \n",
       "1           1               2   27/2/23     CUST002  Female  26.0   \n",
       "2           2               3   13/1/23     CUST003    Male  50.0   \n",
       "3           3               4   20/4/23     CUST004  Female   5.0   \n",
       "4           4               5   21/5/23     CUST005    Male  37.0   \n",
       "5           5               6    6/5/23     CUST006    Male  30.0   \n",
       "\n",
       "  Product Category  Quantity  Price per Unit  Total Amount  \n",
       "0           Beauty       3.0            50.0         150.0  \n",
       "1         Clothing       2.0           500.0        1000.0  \n",
       "2      Electronics       1.0            30.0          30.0  \n",
       "3              NaN       1.0            20.0          20.0  \n",
       "4         Clothing       1.0           500.0         500.0  \n",
       "5           Beauty       2.0            50.0         100.0  "
      ],
      "text/html": [
       "<div>\n",
       "<style scoped>\n",
       "    .dataframe tbody tr th:only-of-type {\n",
       "        vertical-align: middle;\n",
       "    }\n",
       "\n",
       "    .dataframe tbody tr th {\n",
       "        vertical-align: top;\n",
       "    }\n",
       "\n",
       "    .dataframe thead th {\n",
       "        text-align: right;\n",
       "    }\n",
       "</style>\n",
       "<table border=\"1\" class=\"dataframe\">\n",
       "  <thead>\n",
       "    <tr style=\"text-align: right;\">\n",
       "      <th></th>\n",
       "      <th>Unnamed: 0</th>\n",
       "      <th>Transaction_ID</th>\n",
       "      <th>Date</th>\n",
       "      <th>Customer ID</th>\n",
       "      <th>Gender</th>\n",
       "      <th>Age</th>\n",
       "      <th>Product Category</th>\n",
       "      <th>Quantity</th>\n",
       "      <th>Price per Unit</th>\n",
       "      <th>Total Amount</th>\n",
       "    </tr>\n",
       "  </thead>\n",
       "  <tbody>\n",
       "    <tr>\n",
       "      <th>0</th>\n",
       "      <td>0</td>\n",
       "      <td>1</td>\n",
       "      <td>24/11/23</td>\n",
       "      <td>CUST001</td>\n",
       "      <td>Male</td>\n",
       "      <td>34.0</td>\n",
       "      <td>Beauty</td>\n",
       "      <td>3.0</td>\n",
       "      <td>50.0</td>\n",
       "      <td>150.0</td>\n",
       "    </tr>\n",
       "    <tr>\n",
       "      <th>1</th>\n",
       "      <td>1</td>\n",
       "      <td>2</td>\n",
       "      <td>27/2/23</td>\n",
       "      <td>CUST002</td>\n",
       "      <td>Female</td>\n",
       "      <td>26.0</td>\n",
       "      <td>Clothing</td>\n",
       "      <td>2.0</td>\n",
       "      <td>500.0</td>\n",
       "      <td>1000.0</td>\n",
       "    </tr>\n",
       "    <tr>\n",
       "      <th>2</th>\n",
       "      <td>2</td>\n",
       "      <td>3</td>\n",
       "      <td>13/1/23</td>\n",
       "      <td>CUST003</td>\n",
       "      <td>Male</td>\n",
       "      <td>50.0</td>\n",
       "      <td>Electronics</td>\n",
       "      <td>1.0</td>\n",
       "      <td>30.0</td>\n",
       "      <td>30.0</td>\n",
       "    </tr>\n",
       "    <tr>\n",
       "      <th>3</th>\n",
       "      <td>3</td>\n",
       "      <td>4</td>\n",
       "      <td>20/4/23</td>\n",
       "      <td>CUST004</td>\n",
       "      <td>Female</td>\n",
       "      <td>5.0</td>\n",
       "      <td>NaN</td>\n",
       "      <td>1.0</td>\n",
       "      <td>20.0</td>\n",
       "      <td>20.0</td>\n",
       "    </tr>\n",
       "    <tr>\n",
       "      <th>4</th>\n",
       "      <td>4</td>\n",
       "      <td>5</td>\n",
       "      <td>21/5/23</td>\n",
       "      <td>CUST005</td>\n",
       "      <td>Male</td>\n",
       "      <td>37.0</td>\n",
       "      <td>Clothing</td>\n",
       "      <td>1.0</td>\n",
       "      <td>500.0</td>\n",
       "      <td>500.0</td>\n",
       "    </tr>\n",
       "    <tr>\n",
       "      <th>5</th>\n",
       "      <td>5</td>\n",
       "      <td>6</td>\n",
       "      <td>6/5/23</td>\n",
       "      <td>CUST006</td>\n",
       "      <td>Male</td>\n",
       "      <td>30.0</td>\n",
       "      <td>Beauty</td>\n",
       "      <td>2.0</td>\n",
       "      <td>50.0</td>\n",
       "      <td>100.0</td>\n",
       "    </tr>\n",
       "  </tbody>\n",
       "</table>\n",
       "</div>"
      ]
     },
     "execution_count": 11,
     "metadata": {},
     "output_type": "execute_result"
    }
   ],
   "execution_count": 11
  },
  {
   "metadata": {},
   "cell_type": "markdown",
   "source": "How many data do we have ?",
   "id": "549f3d75ef19ef29"
  },
  {
   "metadata": {
    "ExecuteTime": {
     "end_time": "2025-05-22T17:22:04.516778Z",
     "start_time": "2025-05-22T17:22:04.505199Z"
    }
   },
   "cell_type": "code",
   "source": "data.count()",
   "id": "60aa4451d846ca2",
   "outputs": [
    {
     "data": {
      "text/plain": [
       "Unnamed: 0          1050\n",
       "Transaction_ID      1050\n",
       "Date                1050\n",
       "Customer ID         1050\n",
       "Gender              1034\n",
       "Age                 1014\n",
       "Product Category    1042\n",
       "Quantity            1013\n",
       "Price per Unit      1011\n",
       "Total Amount        1009\n",
       "dtype: int64"
      ]
     },
     "execution_count": 16,
     "metadata": {},
     "output_type": "execute_result"
    }
   ],
   "execution_count": 16
  },
  {
   "metadata": {},
   "cell_type": "markdown",
   "source": "Its seems that we have lots of missing values:",
   "id": "dd14b89c1ec43a3d"
  },
  {
   "metadata": {
    "ExecuteTime": {
     "end_time": "2025-05-22T17:21:02.592589Z",
     "start_time": "2025-05-22T17:21:02.574787Z"
    }
   },
   "cell_type": "code",
   "source": "data.isna().sum()",
   "id": "cc808ea78eac54a2",
   "outputs": [
    {
     "data": {
      "text/plain": [
       "Unnamed: 0           0\n",
       "Transaction_ID       0\n",
       "Date                 0\n",
       "Customer ID          0\n",
       "Gender              16\n",
       "Age                 36\n",
       "Product Category     8\n",
       "Quantity            37\n",
       "Price per Unit      39\n",
       "Total Amount        41\n",
       "dtype: int64"
      ]
     },
     "execution_count": 14,
     "metadata": {},
     "output_type": "execute_result"
    }
   ],
   "execution_count": 14
  },
  {
   "metadata": {},
   "cell_type": "code",
   "outputs": [],
   "execution_count": null,
   "source": "",
   "id": "9590e9f24de0f601"
  }
 ],
 "metadata": {
  "kernelspec": {
   "display_name": "Python 3",
   "language": "python",
   "name": "python3"
  },
  "language_info": {
   "codemirror_mode": {
    "name": "ipython",
    "version": 2
   },
   "file_extension": ".py",
   "mimetype": "text/x-python",
   "name": "python",
   "nbconvert_exporter": "python",
   "pygments_lexer": "ipython2",
   "version": "2.7.6"
  }
 },
 "nbformat": 4,
 "nbformat_minor": 5
}
