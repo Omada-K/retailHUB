{
 "cells": [
  {
   "cell_type": "code",
   "id": "initial_id",
   "metadata": {
    "collapsed": true,
    "jupyter": {
     "is_executing": true
    }
   },
   "source": [
    "import pandas as pd\n",
    "import matplotlib.pyplot as plt\n",
    "\n",
    "%matplotlib inline"
   ],
   "outputs": [],
   "execution_count": null
  },
  {
   "cell_type": "code",
   "execution_count": 2,
   "id": "726dbbd7f7e27276",
   "metadata": {
    "ExecuteTime": {
     "end_time": "2025-06-05T10:02:45.218618300Z",
     "start_time": "2025-06-04T12:14:23.489061Z"
    }
   },
   "outputs": [
    {
     "name": "stdout",
     "output_type": "stream",
     "text": [
      "Loaded 1050 rows and 10 columns.\n"
     ]
    }
   ],
   "source": [
    "# Read into the DataFrame\n",
    "df = pd.read_csv('../data/raw_data_salesforce.csv')\n",
    "\n",
    "# Drop any stray index column that pandas added\n",
    "#if 'Unnamed: 0' in df.columns:\n",
    "    #df = df.drop(columns=['Unnamed: 0'])\n",
    "\n",
    "# Check\n",
    "print(\"Loaded\", len(df), \"rows and\", len(df.columns), \"columns.\")"
   ]
  },
  {
   "cell_type": "code",
   "execution_count": 3,
   "id": "f7e908a2b5f02171",
   "metadata": {
    "ExecuteTime": {
     "end_time": "2025-06-05T10:02:45.220619500Z",
     "start_time": "2025-06-04T12:14:23.702798Z"
    }
   },
   "outputs": [
    {
     "name": "stdout",
     "output_type": "stream",
     "text": [
      "=== Data Preview ===\n"
     ]
    },
    {
     "data": {
      "text/html": [
       "<div>\n",
       "<style scoped>\n",
       "    .dataframe tbody tr th:only-of-type {\n",
       "        vertical-align: middle;\n",
       "    }\n",
       "\n",
       "    .dataframe tbody tr th {\n",
       "        vertical-align: top;\n",
       "    }\n",
       "\n",
       "    .dataframe thead th {\n",
       "        text-align: right;\n",
       "    }\n",
       "</style>\n",
       "<table border=\"1\" class=\"dataframe\">\n",
       "  <thead>\n",
       "    <tr style=\"text-align: right;\">\n",
       "      <th></th>\n",
       "      <th>Unnamed: 0</th>\n",
       "      <th>Transaction_ID</th>\n",
       "      <th>Date</th>\n",
       "      <th>Customer ID</th>\n",
       "      <th>Gender</th>\n",
       "      <th>Age</th>\n",
       "      <th>Product Category</th>\n",
       "      <th>Quantity</th>\n",
       "      <th>Price per Unit</th>\n",
       "      <th>Total Amount</th>\n",
       "    </tr>\n",
       "  </thead>\n",
       "  <tbody>\n",
       "    <tr>\n",
       "      <th>0</th>\n",
       "      <td>0</td>\n",
       "      <td>1</td>\n",
       "      <td>24/11/23</td>\n",
       "      <td>CUST001</td>\n",
       "      <td>Male</td>\n",
       "      <td>34.0</td>\n",
       "      <td>Beauty</td>\n",
       "      <td>3.0</td>\n",
       "      <td>50.0</td>\n",
       "      <td>150.0</td>\n",
       "    </tr>\n",
       "    <tr>\n",
       "      <th>1</th>\n",
       "      <td>1</td>\n",
       "      <td>2</td>\n",
       "      <td>27/2/23</td>\n",
       "      <td>CUST002</td>\n",
       "      <td>Female</td>\n",
       "      <td>26.0</td>\n",
       "      <td>Clothing</td>\n",
       "      <td>2.0</td>\n",
       "      <td>500.0</td>\n",
       "      <td>1000.0</td>\n",
       "    </tr>\n",
       "    <tr>\n",
       "      <th>2</th>\n",
       "      <td>2</td>\n",
       "      <td>3</td>\n",
       "      <td>13/1/23</td>\n",
       "      <td>CUST003</td>\n",
       "      <td>Male</td>\n",
       "      <td>50.0</td>\n",
       "      <td>Electronics</td>\n",
       "      <td>1.0</td>\n",
       "      <td>30.0</td>\n",
       "      <td>30.0</td>\n",
       "    </tr>\n",
       "    <tr>\n",
       "      <th>3</th>\n",
       "      <td>3</td>\n",
       "      <td>4</td>\n",
       "      <td>20/4/23</td>\n",
       "      <td>CUST004</td>\n",
       "      <td>Female</td>\n",
       "      <td>5.0</td>\n",
       "      <td>NaN</td>\n",
       "      <td>1.0</td>\n",
       "      <td>20.0</td>\n",
       "      <td>20.0</td>\n",
       "    </tr>\n",
       "    <tr>\n",
       "      <th>4</th>\n",
       "      <td>4</td>\n",
       "      <td>5</td>\n",
       "      <td>21/5/23</td>\n",
       "      <td>CUST005</td>\n",
       "      <td>Male</td>\n",
       "      <td>37.0</td>\n",
       "      <td>Clothing</td>\n",
       "      <td>1.0</td>\n",
       "      <td>500.0</td>\n",
       "      <td>500.0</td>\n",
       "    </tr>\n",
       "  </tbody>\n",
       "</table>\n",
       "</div>"
      ],
      "text/plain": [
       "   Unnamed: 0  Transaction_ID      Date Customer ID  Gender   Age  \\\n",
       "0           0               1  24/11/23     CUST001    Male  34.0   \n",
       "1           1               2   27/2/23     CUST002  Female  26.0   \n",
       "2           2               3   13/1/23     CUST003    Male  50.0   \n",
       "3           3               4   20/4/23     CUST004  Female   5.0   \n",
       "4           4               5   21/5/23     CUST005    Male  37.0   \n",
       "\n",
       "  Product Category  Quantity  Price per Unit  Total Amount  \n",
       "0           Beauty       3.0            50.0         150.0  \n",
       "1         Clothing       2.0           500.0        1000.0  \n",
       "2      Electronics       1.0            30.0          30.0  \n",
       "3              NaN       1.0            20.0          20.0  \n",
       "4         Clothing       1.0           500.0         500.0  "
      ]
     },
     "metadata": {},
     "output_type": "display_data"
    },
    {
     "name": "stdout",
     "output_type": "stream",
     "text": [
      "\n",
      "=== Column Data Types ===\n",
      "Unnamed: 0            int64\n",
      "Transaction_ID        int64\n",
      "Date                 object\n",
      "Customer ID          object\n",
      "Gender               object\n",
      "Age                 float64\n",
      "Product Category     object\n",
      "Quantity            float64\n",
      "Price per Unit      float64\n",
      "Total Amount        float64\n",
      "dtype: object\n",
      "\n",
      "=== Data Descriptive Statistics ===\n",
      "        Unnamed: 0  Transaction_ID          Age     Quantity  Price per Unit  \\\n",
      "count  1050.000000     1050.000000  1014.000000  1013.000000     1011.000000   \n",
      "mean    524.500000      525.500000    41.135108     2.490622      178.090999   \n",
      "std     303.253195      303.253195    13.967191     1.179184      189.457709   \n",
      "min       0.000000        1.000000    -8.000000    -4.000000      -30.000000   \n",
      "25%     262.250000      263.250000    29.000000     1.000000       30.000000   \n",
      "50%     524.500000      525.500000    42.000000     3.000000       50.000000   \n",
      "75%     786.750000      787.750000    53.000000     4.000000      300.000000   \n",
      "max    1049.000000     1050.000000    64.000000     5.000000      500.000000   \n",
      "\n",
      "       Total Amount  \n",
      "count   1009.000000  \n",
      "mean     451.446977  \n",
      "std      559.773939  \n",
      "min     -500.000000  \n",
      "25%       60.000000  \n",
      "50%      120.000000  \n",
      "75%      900.000000  \n",
      "max     2000.000000  \n"
     ]
    }
   ],
   "source": [
    "# Show the first few rows\n",
    "print(\"=== Data Preview ===\")\n",
    "display(df.head())\n",
    "\n",
    "# Show column names + their dtypes\n",
    "print(\"\\n=== Column Data Types ===\")\n",
    "print(df.dtypes)\n",
    "\n",
    "# Show descriptive statistics\n",
    "print(\"\\n=== Data Descriptive Statistics ===\")\n",
    "print(df.describe())\n"
   ]
  },
  {
   "cell_type": "code",
   "execution_count": null,
   "id": "590f70401623470f",
   "metadata": {
    "ExecuteTime": {
     "end_time": "2025-06-05T10:02:45.222122900Z",
     "start_time": "2025-06-04T12:14:23.804804Z"
    }
   },
   "outputs": [
    {
     "name": "stdout",
     "output_type": "stream",
     "text": [
      "=== Missing Values by Column ===\n"
     ]
    },
    {
     "data": {
      "text/html": [
       "<div>\n",
       "<style scoped>\n",
       "    .dataframe tbody tr th:only-of-type {\n",
       "        vertical-align: middle;\n",
       "    }\n",
       "\n",
       "    .dataframe tbody tr th {\n",
       "        vertical-align: top;\n",
       "    }\n",
       "\n",
       "    .dataframe thead th {\n",
       "        text-align: right;\n",
       "    }\n",
       "</style>\n",
       "<table border=\"1\" class=\"dataframe\">\n",
       "  <thead>\n",
       "    <tr style=\"text-align: right;\">\n",
       "      <th></th>\n",
       "      <th>nan_count</th>\n",
       "      <th>nan_percent</th>\n",
       "    </tr>\n",
       "  </thead>\n",
       "  <tbody>\n",
       "    <tr>\n",
       "      <th>Transaction_ID</th>\n",
       "      <td>0</td>\n",
       "      <td>0.00</td>\n",
       "    </tr>\n",
       "    <tr>\n",
       "      <th>Date</th>\n",
       "      <td>0</td>\n",
       "      <td>0.00</td>\n",
       "    </tr>\n",
       "    <tr>\n",
       "      <th>Customer ID</th>\n",
       "      <td>0</td>\n",
       "      <td>0.00</td>\n",
       "    </tr>\n",
       "    <tr>\n",
       "      <th>Gender</th>\n",
       "      <td>16</td>\n",
       "      <td>1.52</td>\n",
       "    </tr>\n",
       "    <tr>\n",
       "      <th>Age</th>\n",
       "      <td>36</td>\n",
       "      <td>3.43</td>\n",
       "    </tr>\n",
       "    <tr>\n",
       "      <th>Product Category</th>\n",
       "      <td>8</td>\n",
       "      <td>0.76</td>\n",
       "    </tr>\n",
       "    <tr>\n",
       "      <th>Quantity</th>\n",
       "      <td>37</td>\n",
       "      <td>3.52</td>\n",
       "    </tr>\n",
       "    <tr>\n",
       "      <th>Price per Unit</th>\n",
       "      <td>39</td>\n",
       "      <td>3.71</td>\n",
       "    </tr>\n",
       "    <tr>\n",
       "      <th>Total Amount</th>\n",
       "      <td>41</td>\n",
       "      <td>3.90</td>\n",
       "    </tr>\n",
       "  </tbody>\n",
       "</table>\n",
       "</div>"
      ],
      "text/plain": [
       "                  nan_count  nan_percent\n",
       "Transaction_ID            0         0.00\n",
       "Date                      0         0.00\n",
       "Customer ID               0         0.00\n",
       "Gender                   16         1.52\n",
       "Age                      36         3.43\n",
       "Product Category          8         0.76\n",
       "Quantity                 37         3.52\n",
       "Price per Unit           39         3.71\n",
       "Total Amount             41         3.90"
      ]
     },
     "metadata": {},
     "output_type": "display_data"
    }
   ],
   "source": [
    "# Count how many NaNs in each column\n",
    "nan_counts = df.isna().sum()\n",
    "\n",
    "# Convert to percentage of total rows\n",
    "nan_percents = (nan_counts / len(df) * 100).round(2)\n",
    "\n",
    "# Bundle into a single table\n",
    "missing_report = pd.DataFrame({\n",
    "    'nan_count':   nan_counts,\n",
    "    'nan_percent': nan_percents\n",
    "})\n",
    "\n",
    "print(\"=== Missing Values by Column ===\")\n",
    "display(missing_report)"
   ]
  },
  {
   "cell_type": "markdown",
   "id": "66410fad9fd41b62",
   "metadata": {},
   "source": [
    "NaNs\n",
    "We observe small % of NaNs per column"
   ]
  },
  {
   "cell_type": "code",
   "execution_count": 5,
   "id": "e03ad19939f1eb09",
   "metadata": {
    "ExecuteTime": {
     "end_time": "2025-06-05T10:02:45.222122900Z",
     "start_time": "2025-06-04T12:14:27.342191Z"
    }
   },
   "outputs": [
    {
     "name": "stdout",
     "output_type": "stream",
     "text": [
      "=== Negative Values by Column (excluding 'Unnamed') ===\n"
     ]
    },
    {
     "data": {
      "text/html": [
       "<div>\n",
       "<style scoped>\n",
       "    .dataframe tbody tr th:only-of-type {\n",
       "        vertical-align: middle;\n",
       "    }\n",
       "\n",
       "    .dataframe tbody tr th {\n",
       "        vertical-align: top;\n",
       "    }\n",
       "\n",
       "    .dataframe thead th {\n",
       "        text-align: right;\n",
       "    }\n",
       "</style>\n",
       "<table border=\"1\" class=\"dataframe\">\n",
       "  <thead>\n",
       "    <tr style=\"text-align: right;\">\n",
       "      <th></th>\n",
       "      <th>neg_count</th>\n",
       "      <th>neg_percent</th>\n",
       "    </tr>\n",
       "  </thead>\n",
       "  <tbody>\n",
       "    <tr>\n",
       "      <th>Transaction_ID</th>\n",
       "      <td>0</td>\n",
       "      <td>0.00</td>\n",
       "    </tr>\n",
       "    <tr>\n",
       "      <th>Age</th>\n",
       "      <td>2</td>\n",
       "      <td>0.19</td>\n",
       "    </tr>\n",
       "    <tr>\n",
       "      <th>Quantity</th>\n",
       "      <td>8</td>\n",
       "      <td>0.76</td>\n",
       "    </tr>\n",
       "    <tr>\n",
       "      <th>Price per Unit</th>\n",
       "      <td>4</td>\n",
       "      <td>0.38</td>\n",
       "    </tr>\n",
       "    <tr>\n",
       "      <th>Total Amount</th>\n",
       "      <td>5</td>\n",
       "      <td>0.48</td>\n",
       "    </tr>\n",
       "  </tbody>\n",
       "</table>\n",
       "</div>"
      ],
      "text/plain": [
       "                neg_count  neg_percent\n",
       "Transaction_ID          0         0.00\n",
       "Age                     2         0.19\n",
       "Quantity                8         0.76\n",
       "Price per Unit          4         0.38\n",
       "Total Amount            5         0.48"
      ]
     },
     "metadata": {},
     "output_type": "display_data"
    }
   ],
   "source": [
    "# Automatically find numeric columns, excluding any whose name starts with 'Unnamed'\n",
    "numeric_cols = [\n",
    "    col\n",
    "    for col in df.select_dtypes(include='number').columns\n",
    "    if not col.startswith('Unnamed')\n",
    "]\n",
    "\n",
    "# Count values ≤ 0 in each selected numeric column\n",
    "neg_counts = (df[numeric_cols] <= 0).sum()\n",
    "neg_percents = (neg_counts / len(df) * 100).round(2)\n",
    "\n",
    "negative_report = pd.DataFrame({\n",
    "    'neg_count':   neg_counts,\n",
    "    'neg_percent': neg_percents\n",
    "})\n",
    "\n",
    "print(\"=== Negative Values by Column (excluding 'Unnamed') ===\")\n",
    "display(negative_report)"
   ]
  },
  {
   "cell_type": "markdown",
   "id": "3b80dab158fd4288",
   "metadata": {},
   "source": [
    "Negative values\n",
    "We Observe small % of negative values per column"
   ]
  },
  {
   "cell_type": "code",
   "execution_count": 21,
   "id": "21c5370f92c50b82",
   "metadata": {
    "ExecuteTime": {
     "end_time": "2025-06-05T10:02:45.222122900Z",
     "start_time": "2025-06-04T12:14:29.373839Z"
    }
   },
   "outputs": [
    {
     "data": {
      "image/png": "[encoded data removed]",
      "text/plain": [
       "<Figure size 640x480 with 1 Axes>"
      ]
     },
     "metadata": {},
     "output_type": "display_data"
    },
    {
     "data": {
      "image/png": "[encoded data removed]",
      "text/plain": [
       "<Figure size 640x480 with 1 Axes>"
      ]
     },
     "metadata": {},
     "output_type": "display_data"
    }
   ],
   "source": [
    "# Bar chart for missing values\n",
    "cleaned_missing_values = missing_report[4:]\n",
    "\n",
    "cleaned_missing_values['nan_percent'].plot(kind='bar')\n",
    "plt.title(\"Missing Values per Column\")\n",
    "plt.xlabel(\"Column\"); plt.ylabel(\"Percentage\")\n",
    "plt.tight_layout()\n",
    "plt.show()\n",
    "\n",
    "\n",
    "# Bar chart for negative values\n",
    "cleaned_negative_report = negative_report[1:]\n",
    "cleaned_negative_report['neg_percent'].plot(kind='bar', color='salmon')\n",
    "plt.title(\"Negative or Zero Values per Numeric Column\")\n",
    "plt.xlabel(\"Column\"); plt.ylabel(\"Percentage\")\n",
    "plt.tight_layout()\n",
    "plt.show()\n"
   ]
  },
  {
   "cell_type": "code",
   "execution_count": 46,
   "id": "d8ecf0d22f4ab60b",
   "metadata": {
    "ExecuteTime": {
     "end_time": "2025-06-05T10:02:45.223126500Z",
     "start_time": "2025-06-04T12:14:32.122537Z"
    }
   },
   "outputs": [
    {
     "name": "stdout",
     "output_type": "stream",
     "text": [
      "=== Number of NaNs per Row ===\n"
     ]
    },
    {
     "data": {
      "text/html": [
       "<div>\n",
       "<style scoped>\n",
       "    .dataframe tbody tr th:only-of-type {\n",
       "        vertical-align: middle;\n",
       "    }\n",
       "\n",
       "    .dataframe tbody tr th {\n",
       "        vertical-align: top;\n",
       "    }\n",
       "\n",
       "    .dataframe thead th {\n",
       "        text-align: right;\n",
       "    }\n",
       "</style>\n",
       "<table border=\"1\" class=\"dataframe\">\n",
       "  <thead>\n",
       "    <tr style=\"text-align: right;\">\n",
       "      <th></th>\n",
       "      <th>row_count</th>\n",
       "    </tr>\n",
       "    <tr>\n",
       "      <th>num_nans</th>\n",
       "      <th></th>\n",
       "    </tr>\n",
       "  </thead>\n",
       "  <tbody>\n",
       "    <tr>\n",
       "      <th>0</th>\n",
       "      <td>1005</td>\n",
       "    </tr>\n",
       "    <tr>\n",
       "      <th>1</th>\n",
       "      <td>3</td>\n",
       "    </tr>\n",
       "    <tr>\n",
       "      <th>2</th>\n",
       "      <td>2</td>\n",
       "    </tr>\n",
       "    <tr>\n",
       "      <th>3</th>\n",
       "      <td>4</td>\n",
       "    </tr>\n",
       "    <tr>\n",
       "      <th>4</th>\n",
       "      <td>23</td>\n",
       "    </tr>\n",
       "    <tr>\n",
       "      <th>5</th>\n",
       "      <td>12</td>\n",
       "    </tr>\n",
       "    <tr>\n",
       "      <th>6</th>\n",
       "      <td>1</td>\n",
       "    </tr>\n",
       "  </tbody>\n",
       "</table>\n",
       "</div>"
      ],
      "text/plain": [
       "          row_count\n",
       "num_nans           \n",
       "0              1005\n",
       "1                 3\n",
       "2                 2\n",
       "3                 4\n",
       "4                23\n",
       "5                12\n",
       "6                 1"
      ]
     },
     "metadata": {},
     "output_type": "display_data"
    },
    {
     "data": {
      "image/png": "[encoded data removed]",
      "text/plain": [
       "<Figure size 640x480 with 1 Axes>"
      ]
     },
     "metadata": {},
     "output_type": "display_data"
    }
   ],
   "source": [
    "# Histogram NaNs\n",
    "\n",
    "nan_per_row = df.isna().sum(axis=1)\n",
    "dist = nan_per_row.value_counts().sort_index()\n",
    "\n",
    "print(\"=== Number of NaNs per Row ===\")\n",
    "display(dist.rename_axis('num_nans').rename('row_count').to_frame())\n",
    "\n",
    "    # Histogram\n",
    "nan_per_row.hist(bins=range(1,6+2))\n",
    "plt.title(\"Histogram: NaNs per Row\")\n",
    "plt.xlabel(\"Number of NaNs in a Row\")\n",
    "plt.ylabel(\"Count of Rows\")\n",
    "plt.tight_layout()\n",
    "plt.show()\n"
   ]
  },
  {
   "cell_type": "code",
   "execution_count": 47,
   "id": "be18c51eabb216ec",
   "metadata": {
    "ExecuteTime": {
     "end_time": "2025-06-05T10:02:45.223126500Z",
     "start_time": "2025-06-04T12:14:34.389546Z"
    }
   },
   "outputs": [
    {
     "name": "stdout",
     "output_type": "stream",
     "text": [
      "Initial rows:   1050\n",
      "After cleaning: 1000\n",
      "Rows removed:   50\n",
      "Saved cleaned_data.csv\n"
     ]
    }
   ],
   "source": [
    "# Keep track of how many rows we started with\n",
    "initial_rows = len(df)\n",
    "\n",
    "# 1) Drop any row that has at least one NaN\n",
    "df_clean = df.dropna()\n",
    "\n",
    "# 2) Then drop any row with a negative in a numeric column & where Age > 18\n",
    "df_clean = df_clean[\n",
    "    ((df_clean[numeric_cols] >= 1).all(axis=1))\n",
    "    & (df_clean['Age'] >= 18)\n",
    "    ]\n",
    "\n",
    "\n",
    "# How many we got removed?\n",
    "cleaned_rows = len(df_clean)\n",
    "removed = initial_rows - cleaned_rows\n",
    "\n",
    "print(f\"Initial rows:   {initial_rows}\")\n",
    "print(f\"After cleaning: {cleaned_rows}\")\n",
    "print(f\"Rows removed:   {removed}\")\n",
    "\n",
    "df_clean.to_csv('cleaned_data.csv', index=False)\n",
    "print(\"Saved cleaned_data.csv\")"
   ]
  }
 ],
 "metadata": {
  "kernelspec": {
   "display_name": "Python 3",
   "language": "python",
   "name": "python3"
  },
  "language_info": {
   "codemirror_mode": {
    "name": "ipython",
    "version": 3
   },
   "file_extension": ".py",
   "mimetype": "text/x-python",
   "name": "python",
   "nbconvert_exporter": "python",
   "pygments_lexer": "ipython3",
   "version": "3.13.0"
  }
 },
 "nbformat": 4,
 "nbformat_minor": 5
}
