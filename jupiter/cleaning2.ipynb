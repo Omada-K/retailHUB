{
 "cells": [
  {
   "cell_type": "code",
   "execution_count": null,
   "id": "initial_id",
   "metadata": {
    "ExecuteTime": {
     "end_time": "2025-06-04T12:14:46.507810Z",
     "start_time": "2025-06-04T12:14:45.428575Z"
    },
    "collapsed": true
   },
   "outputs": [],
   "source": [
    "import pandas as pd\n",
    "import matplotlib.pyplot as plt\n",
    "\n",
    "%matplotlib inline"
   ]
  },
  {
   "cell_type": "code",
   "execution_count": 2,
   "id": "f1780c9541048dde",
   "metadata": {
    "ExecuteTime": {
     "end_time": "2025-06-04T12:14:48.339065Z",
     "start_time": "2025-06-04T12:14:48.326020Z"
    }
   },
   "outputs": [
    {
     "name": "stdout",
     "output_type": "stream",
     "text": [
      "Loaded 1000 rows and 10 columns.\n"
     ]
    }
   ],
   "source": [
    "# Read into the DataFrame\n",
    "df = pd.read_csv('../../../../Dropbox/Udemy/100 Days Python/DataAnalysis/Capstone/cleaned_data.csv')\n",
    "\n",
    "# Drop any stray index column that pandas added\n",
    "#if 'Unnamed: 0' in df.columns:\n",
    "#df = df.drop(columns=['Unnamed: 0'])\n",
    "\n",
    "# Check\n",
    "print(\"Loaded\", len(df), \"rows and\", len(df.columns), \"columns.\")"
   ]
  },
  {
   "cell_type": "code",
   "execution_count": 3,
   "id": "c344339abecfa517",
   "metadata": {
    "ExecuteTime": {
     "end_time": "2025-06-04T12:14:51.688629Z",
     "start_time": "2025-06-04T12:14:51.665211Z"
    }
   },
   "outputs": [
    {
     "name": "stdout",
     "output_type": "stream",
     "text": [
      "=== Data Preview ===\n"
     ]
    },
    {
     "data": {
      "text/html": [
       "<div>\n",
       "<style scoped>\n",
       "    .dataframe tbody tr th:only-of-type {\n",
       "        vertical-align: middle;\n",
       "    }\n",
       "\n",
       "    .dataframe tbody tr th {\n",
       "        vertical-align: top;\n",
       "    }\n",
       "\n",
       "    .dataframe thead th {\n",
       "        text-align: right;\n",
       "    }\n",
       "</style>\n",
       "<table border=\"1\" class=\"dataframe\">\n",
       "  <thead>\n",
       "    <tr style=\"text-align: right;\">\n",
       "      <th></th>\n",
       "      <th>Unnamed: 0</th>\n",
       "      <th>Transaction_ID</th>\n",
       "      <th>Date</th>\n",
       "      <th>Customer ID</th>\n",
       "      <th>Gender</th>\n",
       "      <th>Age</th>\n",
       "      <th>Product Category</th>\n",
       "      <th>Quantity</th>\n",
       "      <th>Price per Unit</th>\n",
       "      <th>Total Amount</th>\n",
       "    </tr>\n",
       "  </thead>\n",
       "  <tbody>\n",
       "    <tr>\n",
       "      <th>0</th>\n",
       "      <td>0</td>\n",
       "      <td>1</td>\n",
       "      <td>24/11/23</td>\n",
       "      <td>CUST001</td>\n",
       "      <td>Male</td>\n",
       "      <td>34.0</td>\n",
       "      <td>Beauty</td>\n",
       "      <td>3.0</td>\n",
       "      <td>50.0</td>\n",
       "      <td>150.0</td>\n",
       "    </tr>\n",
       "    <tr>\n",
       "      <th>1</th>\n",
       "      <td>1</td>\n",
       "      <td>2</td>\n",
       "      <td>27/2/23</td>\n",
       "      <td>CUST002</td>\n",
       "      <td>Female</td>\n",
       "      <td>26.0</td>\n",
       "      <td>Clothing</td>\n",
       "      <td>2.0</td>\n",
       "      <td>500.0</td>\n",
       "      <td>1000.0</td>\n",
       "    </tr>\n",
       "    <tr>\n",
       "      <th>2</th>\n",
       "      <td>2</td>\n",
       "      <td>3</td>\n",
       "      <td>13/1/23</td>\n",
       "      <td>CUST003</td>\n",
       "      <td>Male</td>\n",
       "      <td>50.0</td>\n",
       "      <td>Electronics</td>\n",
       "      <td>1.0</td>\n",
       "      <td>30.0</td>\n",
       "      <td>30.0</td>\n",
       "    </tr>\n",
       "    <tr>\n",
       "      <th>3</th>\n",
       "      <td>4</td>\n",
       "      <td>5</td>\n",
       "      <td>21/5/23</td>\n",
       "      <td>CUST005</td>\n",
       "      <td>Male</td>\n",
       "      <td>37.0</td>\n",
       "      <td>Clothing</td>\n",
       "      <td>1.0</td>\n",
       "      <td>500.0</td>\n",
       "      <td>500.0</td>\n",
       "    </tr>\n",
       "    <tr>\n",
       "      <th>4</th>\n",
       "      <td>5</td>\n",
       "      <td>6</td>\n",
       "      <td>6/5/23</td>\n",
       "      <td>CUST006</td>\n",
       "      <td>Male</td>\n",
       "      <td>30.0</td>\n",
       "      <td>Beauty</td>\n",
       "      <td>2.0</td>\n",
       "      <td>50.0</td>\n",
       "      <td>100.0</td>\n",
       "    </tr>\n",
       "  </tbody>\n",
       "</table>\n",
       "</div>"
      ],
      "text/plain": [
       "   Unnamed: 0  Transaction_ID      Date Customer ID  Gender   Age  \\\n",
       "0           0               1  24/11/23     CUST001    Male  34.0   \n",
       "1           1               2   27/2/23     CUST002  Female  26.0   \n",
       "2           2               3   13/1/23     CUST003    Male  50.0   \n",
       "3           4               5   21/5/23     CUST005    Male  37.0   \n",
       "4           5               6    6/5/23     CUST006    Male  30.0   \n",
       "\n",
       "  Product Category  Quantity  Price per Unit  Total Amount  \n",
       "0           Beauty       3.0            50.0         150.0  \n",
       "1         Clothing       2.0           500.0        1000.0  \n",
       "2      Electronics       1.0            30.0          30.0  \n",
       "3         Clothing       1.0           500.0         500.0  \n",
       "4           Beauty       2.0            50.0         100.0  "
      ]
     },
     "metadata": {},
     "output_type": "display_data"
    },
    {
     "name": "stdout",
     "output_type": "stream",
     "text": [
      "\n",
      "=== Column Data Types ===\n",
      "Unnamed: 0            int64\n",
      "Transaction_ID        int64\n",
      "Date                 object\n",
      "Customer ID          object\n",
      "Gender               object\n",
      "Age                 float64\n",
      "Product Category     object\n",
      "Quantity            float64\n",
      "Price per Unit      float64\n",
      "Total Amount        float64\n",
      "dtype: object\n",
      "\n",
      "=== Data Descriptive Statistics ===\n",
      "        Unnamed: 0  Transaction_ID         Age     Quantity  Price per Unit  \\\n",
      "count  1000.000000     1000.000000  1000.00000  1000.000000     1000.000000   \n",
      "mean    531.146000      532.146000    41.39200     2.514000      179.890000   \n",
      "std     301.230943      301.230943    13.68143     1.132734      189.681356   \n",
      "min       0.000000        1.000000    18.00000     1.000000       25.000000   \n",
      "25%     272.750000      273.750000    29.00000     1.000000       30.000000   \n",
      "50%     529.500000      530.500000    42.00000     3.000000       50.000000   \n",
      "75%     793.250000      794.250000    53.00000     4.000000      300.000000   \n",
      "max    1049.000000     1050.000000    64.00000     4.000000      500.000000   \n",
      "\n",
      "       Total Amount  \n",
      "count   1000.000000  \n",
      "mean     456.000000  \n",
      "std      559.997632  \n",
      "min       25.000000  \n",
      "25%       60.000000  \n",
      "50%      135.000000  \n",
      "75%      900.000000  \n",
      "max     2000.000000  \n"
     ]
    }
   ],
   "source": [
    "# Show the first few rows\n",
    "print(\"=== Data Preview ===\")\n",
    "display(df.head())\n",
    "\n",
    "# Show column names + their dtypes\n",
    "print(\"\\n=== Column Data Types ===\")\n",
    "print(df.dtypes)\n",
    "\n",
    "# Show descriptive statistics\n",
    "print(\"\\n=== Data Descriptive Statistics ===\")\n",
    "print(df.describe())"
   ]
  },
  {
   "cell_type": "code",
   "execution_count": 4,
   "id": "7e8b68bcd56f5431",
   "metadata": {
    "ExecuteTime": {
     "end_time": "2025-06-04T12:14:54.115069Z",
     "start_time": "2025-06-04T12:14:54.106146Z"
    }
   },
   "outputs": [
    {
     "name": "stdout",
     "output_type": "stream",
     "text": [
      "Exact duplicate-row count: 0\n"
     ]
    }
   ],
   "source": [
    "# Duplicate Row check & drop\n",
    "dup_count = df.duplicated().sum()\n",
    "print(f\"Exact duplicate-row count: {dup_count}\")\n",
    "if dup_count > 0:\n",
    "    df = df.drop_duplicates()\n",
    "    print(f\"Dropped {dup_count} duplicate rows.\")"
   ]
  },
  {
   "cell_type": "code",
   "execution_count": 5,
   "id": "a1012663981abd87",
   "metadata": {
    "ExecuteTime": {
     "end_time": "2025-06-04T12:14:55.297508Z",
     "start_time": "2025-06-04T12:14:55.258183Z"
    }
   },
   "outputs": [
    {
     "name": "stdout",
     "output_type": "stream",
     "text": [
      "Date parsing failures: 0\n",
      "Price per Unit conversion failures: 0\n",
      "Quantity conversion failures: 0\n",
      "Total Amount conversion failures: 0\n"
     ]
    },
    {
     "name": "stderr",
     "output_type": "stream",
     "text": [
      "C:\\Users\\spide\\AppData\\Local\\Temp\\ipykernel_13716\\1995569080.py:7: UserWarning: Could not infer format, so each element will be parsed individually, falling back to `dateutil`. To ensure parsing is consistent and as-expected, please specify a format.\n",
      "  df[c] = pd.to_datetime(df[c], errors='coerce')\n"
     ]
    }
   ],
   "source": [
    "# Type Conversions for Dates and Numeric Strings\n",
    "# reports any rows that fail to parse\n",
    "\n",
    "date_cols = ['Date']\n",
    "for c in date_cols:\n",
    "    if c in df.columns:\n",
    "        df[c] = pd.to_datetime(df[c], errors='coerce')\n",
    "        n_bad = df[c].isna().sum()\n",
    "        print(f\"{c} parsing failures: {n_bad}\")\n",
    "\n",
    "if 'Price per Unit' in df.columns:\n",
    "    df['Price per Unit'] = (\n",
    "        df['Price per Unit'].astype(str)\n",
    "        .str.replace(r'[$,]', '', regex=True)\n",
    "        .replace('', pd.NA)\n",
    "        .astype(float)\n",
    "    )\n",
    "    n_bad_price = df['Price per Unit'].isna().sum()\n",
    "    print(f\"Price per Unit conversion failures: {n_bad_price}\")\n",
    "\n",
    "if 'Quantity' in df.columns:\n",
    "    df['Quantity'] = pd.to_numeric(df['Quantity'], errors='coerce')\n",
    "    n_bad_qty = df['Quantity'].isna().sum()\n",
    "    print(f\"Quantity conversion failures: {n_bad_qty}\")\n",
    "\n",
    "if 'Total Amount' in df.columns:\n",
    "    df['Total Amount'] = pd.to_numeric(df['Total Amount'], errors='coerce')\n",
    "    n_bad_total = df['Total Amount'].isna().sum()\n",
    "    print(f\"Total Amount conversion failures: {n_bad_total}\")"
   ]
  },
  {
   "cell_type": "code",
   "execution_count": 6,
   "id": "f692784dc9810584",
   "metadata": {
    "ExecuteTime": {
     "end_time": "2025-06-04T12:14:58.291878Z",
     "start_time": "2025-06-04T12:14:58.280136Z"
    }
   },
   "outputs": [
    {
     "name": "stdout",
     "output_type": "stream",
     "text": [
      "Rows where \"Total Amount\" ≠ \"Quantity × Price per Unit\": 0\n"
     ]
    }
   ],
   "source": [
    "# Total Amount Consistency Check\n",
    "\n",
    "df = df.copy()\n",
    "\n",
    "# 2) Compute “Computed_Total” column\n",
    "df.loc[:, \"Computed_Total\"] = df[\"Quantity\"] * df[\"Price per Unit\"]\n",
    "\n",
    "total_col    = \"Total Amount\"\n",
    "computed_col = \"Computed_Total\"\n",
    "tol          = 1e-6\n",
    "\n",
    "# 3) Build a boolean mask only over rows where neither value is NaN\n",
    "valid = df[total_col].notna() & df[computed_col].notna()\n",
    "\n",
    "# 4) Among those valid rows, check where the absolute difference exceeds tolerance\n",
    "mismatch = (df.loc[valid, total_col] - df.loc[valid, computed_col]).abs() > tol\n",
    "\n",
    "# 5) Create a full‐length mask (all False), then assign True where we found mismatches\n",
    "mismatch_mask = pd.Series(False, index=df.index)\n",
    "mismatch_mask.loc[valid] = mismatch\n",
    "\n",
    "print(f\"Rows where \\\"{total_col}\\\" ≠ \\\"Quantity × Price per Unit\\\": {mismatch_mask.sum()}\")\n",
    "\n",
    "if mismatch_mask.sum() > 0:\n",
    "    display(\n",
    "        df.loc[\n",
    "            mismatch_mask,\n",
    "            [\"Quantity\", \"Price per Unit\", \"Total Amount\", \"Computed_Total\"]\n",
    "        ].head()\n",
    "    )\n",
    "\n",
    "# 6) Flag those rows for later inspection\n",
    "df.loc[:, \"Amount_Mismatch_Flag\"] = mismatch_mask"
   ]
  },
  {
   "cell_type": "code",
   "execution_count": 7,
   "id": "2afcf12d4ec4ad90",
   "metadata": {
    "ExecuteTime": {
     "end_time": "2025-06-04T12:15:00.614429Z",
     "start_time": "2025-06-04T12:15:00.597585Z"
    }
   },
   "outputs": [
    {
     "name": "stdout",
     "output_type": "stream",
     "text": [
      "\n",
      "DataFrame info:\n",
      "<class 'pandas.core.frame.DataFrame'>\n",
      "RangeIndex: 1000 entries, 0 to 999\n",
      "Data columns (total 12 columns):\n",
      " #   Column                Non-Null Count  Dtype         \n",
      "---  ------                --------------  -----         \n",
      " 0   Unnamed: 0            1000 non-null   int64         \n",
      " 1   Transaction_ID        1000 non-null   int64         \n",
      " 2   Date                  1000 non-null   datetime64[ns]\n",
      " 3   Customer ID           1000 non-null   object        \n",
      " 4   Gender                1000 non-null   object        \n",
      " 5   Age                   1000 non-null   float64       \n",
      " 6   Product Category      1000 non-null   object        \n",
      " 7   Quantity              1000 non-null   float64       \n",
      " 8   Price per Unit        1000 non-null   float64       \n",
      " 9   Total Amount          1000 non-null   float64       \n",
      " 10  Computed_Total        1000 non-null   float64       \n",
      " 11  Amount_Mismatch_Flag  1000 non-null   bool          \n",
      "dtypes: bool(1), datetime64[ns](1), float64(5), int64(2), object(3)\n",
      "memory usage: 87.0+ KB\n",
      "\n",
      "Missing values per column:\n"
     ]
    },
    {
     "data": {
      "text/html": [
       "<div>\n",
       "<style scoped>\n",
       "    .dataframe tbody tr th:only-of-type {\n",
       "        vertical-align: middle;\n",
       "    }\n",
       "\n",
       "    .dataframe tbody tr th {\n",
       "        vertical-align: top;\n",
       "    }\n",
       "\n",
       "    .dataframe thead th {\n",
       "        text-align: right;\n",
       "    }\n",
       "</style>\n",
       "<table border=\"1\" class=\"dataframe\">\n",
       "  <thead>\n",
       "    <tr style=\"text-align: right;\">\n",
       "      <th></th>\n",
       "      <th>nan_count</th>\n",
       "      <th>nan_percent</th>\n",
       "    </tr>\n",
       "  </thead>\n",
       "  <tbody>\n",
       "    <tr>\n",
       "      <th>Unnamed: 0</th>\n",
       "      <td>0</td>\n",
       "      <td>0.0</td>\n",
       "    </tr>\n",
       "    <tr>\n",
       "      <th>Transaction_ID</th>\n",
       "      <td>0</td>\n",
       "      <td>0.0</td>\n",
       "    </tr>\n",
       "    <tr>\n",
       "      <th>Date</th>\n",
       "      <td>0</td>\n",
       "      <td>0.0</td>\n",
       "    </tr>\n",
       "    <tr>\n",
       "      <th>Customer ID</th>\n",
       "      <td>0</td>\n",
       "      <td>0.0</td>\n",
       "    </tr>\n",
       "    <tr>\n",
       "      <th>Gender</th>\n",
       "      <td>0</td>\n",
       "      <td>0.0</td>\n",
       "    </tr>\n",
       "    <tr>\n",
       "      <th>Age</th>\n",
       "      <td>0</td>\n",
       "      <td>0.0</td>\n",
       "    </tr>\n",
       "    <tr>\n",
       "      <th>Product Category</th>\n",
       "      <td>0</td>\n",
       "      <td>0.0</td>\n",
       "    </tr>\n",
       "    <tr>\n",
       "      <th>Quantity</th>\n",
       "      <td>0</td>\n",
       "      <td>0.0</td>\n",
       "    </tr>\n",
       "    <tr>\n",
       "      <th>Price per Unit</th>\n",
       "      <td>0</td>\n",
       "      <td>0.0</td>\n",
       "    </tr>\n",
       "    <tr>\n",
       "      <th>Total Amount</th>\n",
       "      <td>0</td>\n",
       "      <td>0.0</td>\n",
       "    </tr>\n",
       "    <tr>\n",
       "      <th>Computed_Total</th>\n",
       "      <td>0</td>\n",
       "      <td>0.0</td>\n",
       "    </tr>\n",
       "    <tr>\n",
       "      <th>Amount_Mismatch_Flag</th>\n",
       "      <td>0</td>\n",
       "      <td>0.0</td>\n",
       "    </tr>\n",
       "  </tbody>\n",
       "</table>\n",
       "</div>"
      ],
      "text/plain": [
       "                      nan_count  nan_percent\n",
       "Unnamed: 0                    0          0.0\n",
       "Transaction_ID                0          0.0\n",
       "Date                          0          0.0\n",
       "Customer ID                   0          0.0\n",
       "Gender                        0          0.0\n",
       "Age                           0          0.0\n",
       "Product Category              0          0.0\n",
       "Quantity                      0          0.0\n",
       "Price per Unit                0          0.0\n",
       "Total Amount                  0          0.0\n",
       "Computed_Total                0          0.0\n",
       "Amount_Mismatch_Flag          0          0.0"
      ]
     },
     "metadata": {},
     "output_type": "display_data"
    },
    {
     "name": "stdout",
     "output_type": "stream",
     "text": [
      "\n",
      "Count of Quantity/Price/Total ≤ 0:\n",
      "  Quantity: 0 rows\n",
      "  Price per Unit: 0 rows\n",
      "  Total Amount: 0 rows\n",
      "\n",
      "Rows with Age < 18: 0\n",
      "\n",
      "Rows where Total Amount ≠ Quantity × Price per Unit: 0\n"
     ]
    }
   ],
   "source": [
    "# Final Check\n",
    "# General info (non-null counts, etc.)\n",
    "print(\"\\nDataFrame info:\")\n",
    "df.info()\n",
    "\n",
    "# 3) Check for any remaining NaNs (should be zero in required columns)\n",
    "print(\"\\nMissing values per column:\")\n",
    "missing_counts = df.isna().sum()\n",
    "missing_percents = (missing_counts / len(df) * 100).round(2)\n",
    "missing_report = pd.DataFrame({\n",
    "    \"nan_count\":   missing_counts,\n",
    "    \"nan_percent\": missing_percents\n",
    "})\n",
    "display(missing_report)\n",
    "\n",
    "# 4) Check for any negative or zero values in Quantity, Price per Unit, Total Amount\n",
    "numeric_cols = [\"Quantity\", \"Price per Unit\", \"Total Amount\"]\n",
    "neg_zero_report = {}\n",
    "for col in numeric_cols:\n",
    "    if col in df.columns:\n",
    "        neg = (df[col] <= 0).sum()\n",
    "        neg_zero_report[col] = int(neg)\n",
    "print(\"\\nCount of Quantity/Price/Total ≤ 0:\")\n",
    "for col, count in neg_zero_report.items():\n",
    "    print(f\"  {col}: {count} rows\")\n",
    "\n",
    "\n",
    "# 5) Check for any Age < 18\n",
    "if \"Age\" in df.columns:\n",
    "    underage = (df[\"Age\"] < 18).sum()\n",
    "    print(f\"\\nRows with Age < 18: {underage}\")\n",
    "\n",
    "# 6) Verify Total Amount = Quantity × Price per Unit for every row\n",
    "qty, price, total = \"Quantity\", \"Price per Unit\", \"Total Amount\"\n",
    "tol = 1e-6\n",
    "\n",
    "# Recompute expected total\n",
    "df[\"Computed_Total_Check\"] = df[qty] * df[price]\n",
    "valid_mask = df[total].notna() & df[\"Computed_Total_Check\"].notna()\n",
    "\n",
    "mismatch = (df.loc[valid_mask, total] - df.loc[valid_mask, \"Computed_Total_Check\"]).abs() > tol\n",
    "mismatch_mask = pd.Series(False, index=df.index)\n",
    "mismatch_mask.loc[valid_mask] = mismatch\n",
    "\n",
    "print(f\"\\nRows where Total Amount ≠ Quantity × Price per Unit: {mismatch_mask.sum()}\")\n",
    "if mismatch_mask.sum() > 0:\n",
    "    display(df.loc[mismatch_mask, [qty, price, total, \"Computed_Total_Check\"]].head())"
   ]
  },
  {
   "cell_type": "markdown",
   "id": "4ec60177c7293e7c",
   "metadata": {},
   "source": [
    "Additional checks on our cleaned from Nans, negative or zero values data\n",
    "1. No Duplicates\n",
    "2. No error in Format type of columns\n",
    "3. No wrong calculated values on Total Amount\n",
    "4. Final check to confirm our data include no Nans, negative or zero values and customers with Age < 18\n",
    "5. Total Percentage of dropped rows: 5%"
   ]
  }
 ],
 "metadata": {
  "kernelspec": {
   "display_name": "Python 3",
   "language": "python",
   "name": "python3"
  },
  "language_info": {
   "codemirror_mode": {
    "name": "ipython",
    "version": 3
   },
   "file_extension": ".py",
   "mimetype": "text/x-python",
   "name": "python",
   "nbconvert_exporter": "python",
   "pygments_lexer": "ipython3",
   "version": "3.13.0"
  }
 },
 "nbformat": 4,
 "nbformat_minor": 5
}
