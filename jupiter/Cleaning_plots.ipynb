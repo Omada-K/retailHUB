{
 "cells": [
  {
   "metadata": {},
   "cell_type": "markdown",
   "source": [
    "This notebook will:\n",
    "1. **Load** the raw CSV\n",
    "2. **Inspect** for missing and negative values\n",
    "3. **Visualize** any issues\n",
    "4. **Clean** (drop rows with NaNs or negatives)\n",
    "5. **Save** the cleaned data\n",
    "\n",
    "![Logo](download.jpeg)"
   ],
   "id": "57c25f64da1fd2f9"
  },
  {
   "metadata": {
    "ExecuteTime": {
     "end_time": "2025-05-23T15:35:25.327575Z",
     "start_time": "2025-05-23T15:35:25.314737Z"
    }
   },
   "cell_type": "code",
   "source": [
    "# Standard data + plotting libraries\n",
    "import pandas as pd\n",
    "import matplotlib.pyplot as plt\n",
    "\n",
    "# Make plots appear inline in the notebook\n",
    "%matplotlib inline"
   ],
   "id": "initial_id",
   "outputs": [],
   "execution_count": 34
  },
  {
   "metadata": {
    "ExecuteTime": {
     "end_time": "2025-05-23T15:35:27.012713Z",
     "start_time": "2025-05-23T15:35:26.997967Z"
    }
   },
   "cell_type": "code",
   "source": [
    "# 1) The csv file that we got from the API\n",
    "file_path = 'raw_data_salesforce.csv'\n",
    "\n",
    "# 2) Read into a DataFrame\n",
    "df = pd.read_csv(file_path)\n",
    "\n",
    "# 3) Drop any stray index column that pandas added\n",
    "if 'Unnamed: 0' in df.columns:\n",
    "    df = df.drop(columns=['Unnamed: 0'])\n",
    "\n",
    "# Check\n",
    "print(\"Loaded\", len(df), \"rows and\", len(df.columns), \"columns.\")\n"
   ],
   "id": "43a37570213a376b",
   "outputs": [
    {
     "name": "stdout",
     "output_type": "stream",
     "text": [
      "Loaded 1050 rows and 9 columns.\n"
     ]
    }
   ],
   "execution_count": 35
  },
  {
   "metadata": {
    "ExecuteTime": {
     "end_time": "2025-05-23T15:04:03.105811Z",
     "start_time": "2025-05-23T15:04:03.082373Z"
    }
   },
   "cell_type": "code",
   "source": [
    "# Show the first few rows\n",
    "print(\"=== Data Preview ===\")\n",
    "display(df.head())\n",
    "\n",
    "# Show column names + their dtypes\n",
    "print(\"\\n=== Column Data Types ===\")\n",
    "print(df.dtypes)\n"
   ],
   "id": "9793806d120bc06d",
   "outputs": [
    {
     "name": "stdout",
     "output_type": "stream",
     "text": [
      "=== Data Preview ===\n"
     ]
    },
    {
     "data": {
      "text/plain": [
       "   Transaction_ID      Date Customer ID  Gender   Age Product Category  \\\n",
       "0               1  24/11/23     CUST001    Male  34.0           Beauty   \n",
       "1               2   27/2/23     CUST002  Female  26.0         Clothing   \n",
       "2               3   13/1/23     CUST003    Male  50.0      Electronics   \n",
       "3               4   20/4/23     CUST004  Female   5.0              NaN   \n",
       "4               5   21/5/23     CUST005    Male  37.0         Clothing   \n",
       "\n",
       "   Quantity  Price per Unit  Total Amount  \n",
       "0       3.0            50.0         150.0  \n",
       "1       2.0           500.0        1000.0  \n",
       "2       1.0            30.0          30.0  \n",
       "3       1.0            20.0          20.0  \n",
       "4       1.0           500.0         500.0  "
      ],
      "text/html": [
       "<div>\n",
       "<style scoped>\n",
       "    .dataframe tbody tr th:only-of-type {\n",
       "        vertical-align: middle;\n",
       "    }\n",
       "\n",
       "    .dataframe tbody tr th {\n",
       "        vertical-align: top;\n",
       "    }\n",
       "\n",
       "    .dataframe thead th {\n",
       "        text-align: right;\n",
       "    }\n",
       "</style>\n",
       "<table border=\"1\" class=\"dataframe\">\n",
       "  <thead>\n",
       "    <tr style=\"text-align: right;\">\n",
       "      <th></th>\n",
       "      <th>Transaction_ID</th>\n",
       "      <th>Date</th>\n",
       "      <th>Customer ID</th>\n",
       "      <th>Gender</th>\n",
       "      <th>Age</th>\n",
       "      <th>Product Category</th>\n",
       "      <th>Quantity</th>\n",
       "      <th>Price per Unit</th>\n",
       "      <th>Total Amount</th>\n",
       "    </tr>\n",
       "  </thead>\n",
       "  <tbody>\n",
       "    <tr>\n",
       "      <th>0</th>\n",
       "      <td>1</td>\n",
       "      <td>24/11/23</td>\n",
       "      <td>CUST001</td>\n",
       "      <td>Male</td>\n",
       "      <td>34.0</td>\n",
       "      <td>Beauty</td>\n",
       "      <td>3.0</td>\n",
       "      <td>50.0</td>\n",
       "      <td>150.0</td>\n",
       "    </tr>\n",
       "    <tr>\n",
       "      <th>1</th>\n",
       "      <td>2</td>\n",
       "      <td>27/2/23</td>\n",
       "      <td>CUST002</td>\n",
       "      <td>Female</td>\n",
       "      <td>26.0</td>\n",
       "      <td>Clothing</td>\n",
       "      <td>2.0</td>\n",
       "      <td>500.0</td>\n",
       "      <td>1000.0</td>\n",
       "    </tr>\n",
       "    <tr>\n",
       "      <th>2</th>\n",
       "      <td>3</td>\n",
       "      <td>13/1/23</td>\n",
       "      <td>CUST003</td>\n",
       "      <td>Male</td>\n",
       "      <td>50.0</td>\n",
       "      <td>Electronics</td>\n",
       "      <td>1.0</td>\n",
       "      <td>30.0</td>\n",
       "      <td>30.0</td>\n",
       "    </tr>\n",
       "    <tr>\n",
       "      <th>3</th>\n",
       "      <td>4</td>\n",
       "      <td>20/4/23</td>\n",
       "      <td>CUST004</td>\n",
       "      <td>Female</td>\n",
       "      <td>5.0</td>\n",
       "      <td>NaN</td>\n",
       "      <td>1.0</td>\n",
       "      <td>20.0</td>\n",
       "      <td>20.0</td>\n",
       "    </tr>\n",
       "    <tr>\n",
       "      <th>4</th>\n",
       "      <td>5</td>\n",
       "      <td>21/5/23</td>\n",
       "      <td>CUST005</td>\n",
       "      <td>Male</td>\n",
       "      <td>37.0</td>\n",
       "      <td>Clothing</td>\n",
       "      <td>1.0</td>\n",
       "      <td>500.0</td>\n",
       "      <td>500.0</td>\n",
       "    </tr>\n",
       "  </tbody>\n",
       "</table>\n",
       "</div>"
      ]
     },
     "metadata": {},
     "output_type": "display_data"
    },
    {
     "name": "stdout",
     "output_type": "stream",
     "text": [
      "\n",
      "=== Column Data Types ===\n",
      "Transaction_ID        int64\n",
      "Date                 object\n",
      "Customer ID          object\n",
      "Gender               object\n",
      "Age                 float64\n",
      "Product Category     object\n",
      "Quantity            float64\n",
      "Price per Unit      float64\n",
      "Total Amount        float64\n",
      "dtype: object\n"
     ]
    }
   ],
   "execution_count": 5
  },
  {
   "metadata": {
    "ExecuteTime": {
     "end_time": "2025-05-23T15:10:01.685260Z",
     "start_time": "2025-05-23T15:10:01.667482Z"
    }
   },
   "cell_type": "code",
   "source": [
    "# Count how many NaNs in each column\n",
    "nan_counts = df.isna().sum()\n",
    "\n",
    "# Convert to percentage of total rows\n",
    "nan_percents = (nan_counts / len(df) * 100).round(2)\n",
    "\n",
    "# Bundle into a single table\n",
    "missing_report = pd.DataFrame({\n",
    "    'nan_count':   nan_counts,\n",
    "    'nan_percent': nan_percents\n",
    "})\n",
    "\n",
    "print(\"=== Missing Values by Column ===\")\n",
    "display(missing_report)\n"
   ],
   "id": "311a08a7a66e3dc2",
   "outputs": [
    {
     "name": "stdout",
     "output_type": "stream",
     "text": [
      "=== Missing Values by Column ===\n"
     ]
    },
    {
     "data": {
      "text/plain": [
       "                  nan_count  nan_percent\n",
       "Transaction_ID            0         0.00\n",
       "Date                      0         0.00\n",
       "Customer ID               0         0.00\n",
       "Gender                   16         1.52\n",
       "Age                      36         3.43\n",
       "Product Category          8         0.76\n",
       "Quantity                 37         3.52\n",
       "Price per Unit           39         3.71\n",
       "Total Amount             41         3.90"
      ],
      "text/html": [
       "<div>\n",
       "<style scoped>\n",
       "    .dataframe tbody tr th:only-of-type {\n",
       "        vertical-align: middle;\n",
       "    }\n",
       "\n",
       "    .dataframe tbody tr th {\n",
       "        vertical-align: top;\n",
       "    }\n",
       "\n",
       "    .dataframe thead th {\n",
       "        text-align: right;\n",
       "    }\n",
       "</style>\n",
       "<table border=\"1\" class=\"dataframe\">\n",
       "  <thead>\n",
       "    <tr style=\"text-align: right;\">\n",
       "      <th></th>\n",
       "      <th>nan_count</th>\n",
       "      <th>nan_percent</th>\n",
       "    </tr>\n",
       "  </thead>\n",
       "  <tbody>\n",
       "    <tr>\n",
       "      <th>Transaction_ID</th>\n",
       "      <td>0</td>\n",
       "      <td>0.00</td>\n",
       "    </tr>\n",
       "    <tr>\n",
       "      <th>Date</th>\n",
       "      <td>0</td>\n",
       "      <td>0.00</td>\n",
       "    </tr>\n",
       "    <tr>\n",
       "      <th>Customer ID</th>\n",
       "      <td>0</td>\n",
       "      <td>0.00</td>\n",
       "    </tr>\n",
       "    <tr>\n",
       "      <th>Gender</th>\n",
       "      <td>16</td>\n",
       "      <td>1.52</td>\n",
       "    </tr>\n",
       "    <tr>\n",
       "      <th>Age</th>\n",
       "      <td>36</td>\n",
       "      <td>3.43</td>\n",
       "    </tr>\n",
       "    <tr>\n",
       "      <th>Product Category</th>\n",
       "      <td>8</td>\n",
       "      <td>0.76</td>\n",
       "    </tr>\n",
       "    <tr>\n",
       "      <th>Quantity</th>\n",
       "      <td>37</td>\n",
       "      <td>3.52</td>\n",
       "    </tr>\n",
       "    <tr>\n",
       "      <th>Price per Unit</th>\n",
       "      <td>39</td>\n",
       "      <td>3.71</td>\n",
       "    </tr>\n",
       "    <tr>\n",
       "      <th>Total Amount</th>\n",
       "      <td>41</td>\n",
       "      <td>3.90</td>\n",
       "    </tr>\n",
       "  </tbody>\n",
       "</table>\n",
       "</div>"
      ]
     },
     "metadata": {},
     "output_type": "display_data"
    }
   ],
   "execution_count": 14
  },
  {
   "metadata": {
    "ExecuteTime": {
     "end_time": "2025-05-23T15:04:28.240492Z",
     "start_time": "2025-05-23T15:04:28.223127Z"
    }
   },
   "cell_type": "code",
   "source": [
    "# Automatically find numeric columns\n",
    "numeric_cols = df.select_dtypes(include='number').columns.tolist()\n",
    "\n",
    "# Count negatives in each numeric column\n",
    "neg_counts = (df[numeric_cols] < 0).sum()\n",
    "neg_percents = (neg_counts / len(df) * 100).round(2)\n",
    "\n",
    "negative_report = pd.DataFrame({\n",
    "    'neg_count':   neg_counts,\n",
    "    'neg_percent': neg_percents\n",
    "})\n",
    "\n",
    "print(\"=== Negative Values by Column ===\")\n",
    "display(negative_report)\n"
   ],
   "id": "fb3e977db8882ed3",
   "outputs": [
    {
     "name": "stdout",
     "output_type": "stream",
     "text": [
      "=== Negative Values by Column ===\n"
     ]
    },
    {
     "data": {
      "text/plain": [
       "                neg_count  neg_percent\n",
       "Transaction_ID          0         0.00\n",
       "Age                     1         0.10\n",
       "Quantity                3         0.29\n",
       "Price per Unit          3         0.29\n",
       "Total Amount            4         0.38"
      ],
      "text/html": [
       "<div>\n",
       "<style scoped>\n",
       "    .dataframe tbody tr th:only-of-type {\n",
       "        vertical-align: middle;\n",
       "    }\n",
       "\n",
       "    .dataframe tbody tr th {\n",
       "        vertical-align: top;\n",
       "    }\n",
       "\n",
       "    .dataframe thead th {\n",
       "        text-align: right;\n",
       "    }\n",
       "</style>\n",
       "<table border=\"1\" class=\"dataframe\">\n",
       "  <thead>\n",
       "    <tr style=\"text-align: right;\">\n",
       "      <th></th>\n",
       "      <th>neg_count</th>\n",
       "      <th>neg_percent</th>\n",
       "    </tr>\n",
       "  </thead>\n",
       "  <tbody>\n",
       "    <tr>\n",
       "      <th>Transaction_ID</th>\n",
       "      <td>0</td>\n",
       "      <td>0.00</td>\n",
       "    </tr>\n",
       "    <tr>\n",
       "      <th>Age</th>\n",
       "      <td>1</td>\n",
       "      <td>0.10</td>\n",
       "    </tr>\n",
       "    <tr>\n",
       "      <th>Quantity</th>\n",
       "      <td>3</td>\n",
       "      <td>0.29</td>\n",
       "    </tr>\n",
       "    <tr>\n",
       "      <th>Price per Unit</th>\n",
       "      <td>3</td>\n",
       "      <td>0.29</td>\n",
       "    </tr>\n",
       "    <tr>\n",
       "      <th>Total Amount</th>\n",
       "      <td>4</td>\n",
       "      <td>0.38</td>\n",
       "    </tr>\n",
       "  </tbody>\n",
       "</table>\n",
       "</div>"
      ]
     },
     "metadata": {},
     "output_type": "display_data"
    }
   ],
   "execution_count": 7
  },
  {
   "metadata": {
    "ExecuteTime": {
     "end_time": "2025-05-23T15:11:13.089406Z",
     "start_time": "2025-05-23T15:11:12.965513Z"
    }
   },
   "cell_type": "code",
   "source": [
    "# Bar chart for missing values\n",
    "if missing_report['nan_count'].sum() > 0:\n",
    "    missing_report['nan_count'].plot(kind='bar')\n",
    "    plt.title(\"Missing Values per Column\")\n",
    "    plt.xlabel(\"Column\"); plt.ylabel(\"Count\")\n",
    "    plt.tight_layout()\n",
    "    plt.show()\n",
    "else:\n",
    "    print(\"No missing values to plot.\")\n",
    "\n",
    "# Bar chart for negative values\n",
    "if negative_report['neg_count'].sum() > 0:\n",
    "    negative_report['neg_count'].plot(kind='bar', color='salmon')\n",
    "    plt.title(\"Negative Values per Numeric Column\")\n",
    "    plt.xlabel(\"Column\"); plt.ylabel(\"Count\")\n",
    "    plt.tight_layout()\n",
    "    plt.show()\n",
    "else:\n",
    "    print(\"No negative values to plot.\")\n"
   ],
   "id": "4e3e4f1fce00a99a",
   "outputs": [
    {
     "data": {
      "text/plain": [
       "<Figure size 800x400 with 1 Axes>"
      ],
      "image/png": "[encoded data removed]"
     },
     "metadata": {},
     "output_type": "display_data"
    },
    {
     "data": {
      "text/plain": [
       "<Figure size 800x400 with 1 Axes>"
      ],
      "image/png": "[encoded data removed]"
     },
     "metadata": {},
     "output_type": "display_data"
    }
   ],
   "execution_count": 16
  },
  {
   "metadata": {
    "ExecuteTime": {
     "end_time": "2025-05-23T15:11:22.329562Z",
     "start_time": "2025-05-23T15:11:22.266928Z"
    }
   },
   "cell_type": "code",
   "source": [
    "# Only if there are any NaNs\n",
    "if missing_report['nan_count'].sum() > 0:\n",
    "    nan_per_row = df.isna().sum(axis=1)\n",
    "    dist = nan_per_row.value_counts().sort_index()\n",
    "\n",
    "    print(\"=== Number of NaNs per Row ===\")\n",
    "    display(dist.rename_axis('num_nans').rename('row_count').to_frame())\n",
    "\n",
    "    # Histogram\n",
    "    nan_per_row.hist(bins=range(nan_per_row.max()+2))\n",
    "    plt.title(\"Histogram: NaNs per Row\")\n",
    "    plt.xlabel(\"Number of NaNs in a Row\")\n",
    "    plt.ylabel(\"Count of Rows\")\n",
    "    plt.tight_layout()\n",
    "    plt.show()\n"
   ],
   "id": "59eb80f79ea97d8a",
   "outputs": [
    {
     "name": "stdout",
     "output_type": "stream",
     "text": [
      "=== Number of NaNs per Row ===\n"
     ]
    },
    {
     "data": {
      "text/plain": [
       "          row_count\n",
       "num_nans           \n",
       "0              1005\n",
       "1                 3\n",
       "2                 2\n",
       "3                 4\n",
       "4                23\n",
       "5                12\n",
       "6                 1"
      ],
      "text/html": [
       "<div>\n",
       "<style scoped>\n",
       "    .dataframe tbody tr th:only-of-type {\n",
       "        vertical-align: middle;\n",
       "    }\n",
       "\n",
       "    .dataframe tbody tr th {\n",
       "        vertical-align: top;\n",
       "    }\n",
       "\n",
       "    .dataframe thead th {\n",
       "        text-align: right;\n",
       "    }\n",
       "</style>\n",
       "<table border=\"1\" class=\"dataframe\">\n",
       "  <thead>\n",
       "    <tr style=\"text-align: right;\">\n",
       "      <th></th>\n",
       "      <th>row_count</th>\n",
       "    </tr>\n",
       "    <tr>\n",
       "      <th>num_nans</th>\n",
       "      <th></th>\n",
       "    </tr>\n",
       "  </thead>\n",
       "  <tbody>\n",
       "    <tr>\n",
       "      <th>0</th>\n",
       "      <td>1005</td>\n",
       "    </tr>\n",
       "    <tr>\n",
       "      <th>1</th>\n",
       "      <td>3</td>\n",
       "    </tr>\n",
       "    <tr>\n",
       "      <th>2</th>\n",
       "      <td>2</td>\n",
       "    </tr>\n",
       "    <tr>\n",
       "      <th>3</th>\n",
       "      <td>4</td>\n",
       "    </tr>\n",
       "    <tr>\n",
       "      <th>4</th>\n",
       "      <td>23</td>\n",
       "    </tr>\n",
       "    <tr>\n",
       "      <th>5</th>\n",
       "      <td>12</td>\n",
       "    </tr>\n",
       "    <tr>\n",
       "      <th>6</th>\n",
       "      <td>1</td>\n",
       "    </tr>\n",
       "  </tbody>\n",
       "</table>\n",
       "</div>"
      ]
     },
     "metadata": {},
     "output_type": "display_data"
    },
    {
     "data": {
      "text/plain": [
       "<Figure size 800x400 with 1 Axes>"
      ],
      "image/png": "[encoded data removed]"
     },
     "metadata": {},
     "output_type": "display_data"
    }
   ],
   "execution_count": 17
  },
  {
   "metadata": {
    "ExecuteTime": {
     "end_time": "2025-05-23T15:12:14.515585Z",
     "start_time": "2025-05-23T15:12:14.505184Z"
    }
   },
   "cell_type": "code",
   "source": [
    "# Keep track of how many rows we started with\n",
    "initial_rows = len(df)\n",
    "\n",
    "# 1) Drop any row that has at least one NaN\n",
    "df_clean = df.dropna()\n",
    "\n",
    "# 2) Then drop any row with a negative in a numeric column\n",
    "df_clean = df_clean[(df_clean[numeric_cols] >= 0).all(axis=1)]\n",
    "\n",
    "# How many we got removed?\n",
    "cleaned_rows = len(df_clean)\n",
    "removed = initial_rows - cleaned_rows\n",
    "\n",
    "print(f\"Initial rows:   {initial_rows}\")\n",
    "print(f\"After cleaning: {cleaned_rows}\")\n",
    "print(f\"Rows removed:   {removed}\")\n"
   ],
   "id": "af60a6c701fb92b7",
   "outputs": [
    {
     "name": "stdout",
     "output_type": "stream",
     "text": [
      "Initial rows:   1050\n",
      "After cleaning: 1001\n",
      "Rows removed:   49\n"
     ]
    }
   ],
   "execution_count": 20
  },
  {
   "metadata": {
    "ExecuteTime": {
     "end_time": "2025-05-23T15:05:32.210153Z",
     "start_time": "2025-05-23T15:05:32.191680Z"
    }
   },
   "cell_type": "code",
   "source": [
    "out_path = 'cleaned_salesforce_data.csv'\n",
    "df_clean.to_csv(out_path, index=False)\n",
    "print(\"✅ Cleaned data saved to:\", out_path)\n"
   ],
   "id": "ff7a361b70fa5740",
   "outputs": [
    {
     "name": "stdout",
     "output_type": "stream",
     "text": [
      "✅ Cleaned data saved to: cleaned_salesforce_data.csv\n"
     ]
    }
   ],
   "execution_count": 11
  }
 ],
 "metadata": {
  "kernelspec": {
   "display_name": "Python 3",
   "language": "python",
   "name": "python3"
  },
  "language_info": {
   "codemirror_mode": {
    "name": "ipython",
    "version": 2
   },
   "file_extension": ".py",
   "mimetype": "text/x-python",
   "name": "python",
   "nbconvert_exporter": "python",
   "pygments_lexer": "ipython2",
   "version": "2.7.6"
  }
 },
 "nbformat": 4,
 "nbformat_minor": 5
}
